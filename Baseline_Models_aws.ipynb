{
 "cells": [
  {
   "cell_type": "code",
   "execution_count": 1,
   "metadata": {
    "collapsed": true
   },
   "outputs": [],
   "source": [
    "import numpy as np\n",
    "import pandas as pd\n",
    "import geopandas as gpd\n",
    "import datetime\n",
    "import matplotlib.pyplot as plt\n",
    "from mpl_toolkits.basemap import Basemap\n",
    "%matplotlib inline\n",
    "import seaborn as sns\n",
    "from cap_functs import rmse, mae, median_error, find_neigh_cnt, find_cnts_per_cat, compile_model_data\n",
    "from cap_functs import percent_within_x, print_percents, print_percents_log, convert_mp_vals\n",
    "\n",
    "from sklearn.model_selection import train_test_split, GridSearchCV\n",
    "from sklearn.preprocessing import StandardScaler\n",
    "from sklearn.linear_model import LinearRegression, RidgeCV, Ridge, LassoCV, Lasso\n",
    "from sklearn.ensemble import RandomForestRegressor, GradientBoostingRegressor\n",
    "from sklearn.ensemble import AdaBoostRegressor, ExtraTreesRegressor\n",
    "from xgboost import XGBRegressor\n",
    "from sklearn.model_selection import GridSearchCV, cross_val_score\n",
    "from sklearn.neighbors import KDTree\n",
    "from sklearn.model_selection import learning_curve, ShuffleSplit\n",
    "from sklearn.metrics import median_absolute_error\n",
    "\n",
    "plt.style.use('fivethirtyeight')\n",
    "%config InlineBackend.figure_format = 'retina'"
   ]
  },
  {
   "cell_type": "code",
   "execution_count": 3,
   "metadata": {
    "collapsed": false
   },
   "outputs": [
    {
     "name": "stdout",
     "output_type": "stream",
     "text": [
      "2016-08-11 00:57:07\n"
     ]
    }
   ],
   "source": [
    "rec_311_dt = pd.read_pickle('../ga_project_data/rec_311_dt')\n",
    "print max(rec_311_dt.Opened)\n",
    "rec_15up = rec_311_dt[rec_311_dt.Opened >= datetime.datetime(2015, 1, 1)]\n",
    "rec_15up = rec_15up[rec_15up.Point.notnull()]\n",
    "rec_15up['latitude'] = rec_15up.Point.apply(lambda x: map(float, x.strip('()').split(', '))[0])\n",
    "rec_15up['longitude'] = rec_15up.Point.apply(lambda x: map(float, x.strip('()').split(', '))[1])\n",
    "del rec_311_dt"
   ]
  },
  {
   "cell_type": "code",
   "execution_count": 4,
   "metadata": {
    "collapsed": true
   },
   "outputs": [],
   "source": [
    "short_311_cats = ['Street and Sidewalk Cleaning', 'Damaged Property', 'SFHA Requests', \n",
    "                  'Street Defects', 'Sidewalk or Curb', 'Color Curb', 'Graffiti']"
   ]
  },
  {
   "cell_type": "code",
   "execution_count": 5,
   "metadata": {
    "collapsed": true
   },
   "outputs": [],
   "source": [
    "crimes_sf_dt = pd.read_pickle('../ga_project_data/crimes_sf_dt')\n",
    "\n",
    "crime_15up = crimes_sf_dt[crimes_sf_dt.Date >= datetime.datetime(2015, 1, 1)]\n",
    "crime_15up = crime_15up.rename(columns={'X': 'longitude', 'Y': 'latitude'})\n",
    "del crimes_sf_dt"
   ]
  },
  {
   "cell_type": "code",
   "execution_count": 6,
   "metadata": {
    "collapsed": true
   },
   "outputs": [],
   "source": [
    "short_crime_cats = ['LARCENY/THEFT', 'VEHICLE THEFT', 'DRUG/NARCOTIC', 'VANDALISM', \n",
    "                    'BURGLARY', 'ROBBERY', 'LOITERING', 'NON-CRIMINAL', 'WEAPON LAWS']"
   ]
  },
  {
   "cell_type": "code",
   "execution_count": 7,
   "metadata": {
    "collapsed": true
   },
   "outputs": [],
   "source": [
    "park_reg_pts = pd.DataFrame(gpd.read_file('./map_data/park_reg_pts/park_reg_pts.shp'))\n",
    "park_reg_pts['geometry'] = park_reg_pts.geometry.apply(str, convert_dtype=str)\n",
    "park_reg_pts = convert_mp_vals(df=park_reg_pts, column='geometry')\n",
    "park_reg_pts = park_reg_pts[np.random.choice(park_reg_pts.shape[0], \n",
    "                                             len(park_reg_pts), replace=False), :]"
   ]
  },
  {
   "cell_type": "code",
   "execution_count": 8,
   "metadata": {
    "collapsed": true
   },
   "outputs": [],
   "source": [
    "ldn_76 = pd.read_pickle('ldn_76')\n",
    "ldn_74 = pd.read_pickle('ldn_74')\n",
    "ldn_72 = pd.read_pickle('ldn_72')\n",
    "ldn_70 = pd.read_pickle('ldn_70')\n",
    "ldn_66 = pd.read_pickle('ldn_66')"
   ]
  },
  {
   "cell_type": "code",
   "execution_count": null,
   "metadata": {
    "collapsed": true
   },
   "outputs": [],
   "source": []
  },
  {
   "cell_type": "code",
   "execution_count": null,
   "metadata": {
    "collapsed": true
   },
   "outputs": [],
   "source": []
  },
  {
   "cell_type": "code",
   "execution_count": 9,
   "metadata": {
    "collapsed": false
   },
   "outputs": [
    {
     "data": {
      "text/plain": [
       "(5187, 93)"
      ]
     },
     "execution_count": 9,
     "metadata": {},
     "output_type": "execute_result"
    }
   ],
   "source": [
    "#bnb_list_full = pd.read_pickle('./bnb_list_full')\n",
    "bnb_list_full = pd.read_pickle('./bnb_list_full_geo')\n",
    "bnb_list_test = pd.DataFrame(bnb_list_full)\n",
    "bnb_list_test = bnb_list_test[bnb_list_test.reviews_per_month > 0.2]\n",
    "bnb_list_test.shape"
   ]
  },
  {
   "cell_type": "code",
   "execution_count": 10,
   "metadata": {
    "collapsed": true
   },
   "outputs": [],
   "source": [
    "bnb_list_test = compile_model_data('crime and 311', bnb_list_test, short_311_cats, \n",
    "                                   short_crime_cats, crime_15up, rec_15up, \n",
    "                                   r_crime=0.004, r_311=0.004)\n"
   ]
  },
  {
   "cell_type": "code",
   "execution_count": 11,
   "metadata": {
    "collapsed": true
   },
   "outputs": [],
   "source": [
    "bnb_list_test = find_neigh_cnt('park_reg_pts', park_reg_pts, bnb_list_test, r=0.004)"
   ]
  },
  {
   "cell_type": "code",
   "execution_count": 12,
   "metadata": {
    "collapsed": true
   },
   "outputs": [],
   "source": [
    "bnb_list_test = find_neigh_cnt('ldn_76', ldn_76, bnb_list_test, r=0.0012)\n",
    "bnb_list_test = find_neigh_cnt('ldn_74', ldn_74, bnb_list_test, r=0.0012)\n",
    "bnb_list_test = find_neigh_cnt('ldn_72', ldn_72, bnb_list_test, r=0.0012)\n",
    "bnb_list_test = find_neigh_cnt('ldn_70', ldn_70, bnb_list_test, r=0.0012)\n",
    "bnb_list_test = find_neigh_cnt('ldn_66', ldn_66, bnb_list_test, r=0.0012)"
   ]
  },
  {
   "cell_type": "markdown",
   "metadata": {},
   "source": [
    "## Airbnb models (log_transform comparison)"
   ]
  },
  {
   "cell_type": "code",
   "execution_count": 13,
   "metadata": {
    "collapsed": true
   },
   "outputs": [],
   "source": [
    "# Predictors and target\n",
    "# drop_cols = ['price_mod', 'price_y', 'price', 'latitude', 'longitude', \n",
    "#              'amenities']\n",
    "drop_cols = ['id', 'price_mod', 'price_y', 'price', 'latitude', 'longitude', \n",
    "             'amenities', 'geometry', 'census_tract']\n",
    "keep_cols = [x for x in bnb_list_test.columns.values if x not in drop_cols]\n",
    "X = bnb_list_test[keep_cols]\n",
    "\n",
    "ss = StandardScaler()\n",
    "Xs = ss.fit_transform(X)\n",
    "\n",
    "y = bnb_list_test.price.values\n",
    "yl = np.log1p(y)\n",
    "\n",
    "X_train, X_test, y_train, y_test = train_test_split(X, y, test_size=0.3, random_state=101)\n",
    "Xl_train, Xl_test, yl_train, yl_test = train_test_split(X, yl, test_size=0.3, random_state=101)\n"
   ]
  },
  {
   "cell_type": "code",
   "execution_count": 117,
   "metadata": {
    "collapsed": false
   },
   "outputs": [
    {
     "name": "stdout",
     "output_type": "stream",
     "text": [
      "97.1606975923    9.85701260993\n",
      "56.5194269379\n",
      "36.5075540306\n"
     ]
    },
    {
     "data": {
      "text/plain": [
       "0.6333009789841384"
      ]
     },
     "execution_count": 117,
     "metadata": {},
     "output_type": "execute_result"
    }
   ],
   "source": [
    "linreg = LinearRegression()\n",
    "linreg.fit(X_train, y_train)\n",
    "y_pred = linreg.predict(X_test)\n",
    "print rmse(y_pred, y_test), '  ', np.sqrt(rmse(y_pred, y_test))\n",
    "print mae(y_pred, y_test)\n",
    "print median_absolute_error(y_test, y_pred)\n",
    "linreg.score(X_test, y_test)"
   ]
  },
  {
   "cell_type": "code",
   "execution_count": 118,
   "metadata": {
    "collapsed": false,
    "scrolled": true
   },
   "outputs": [
    {
     "name": "stdout",
     "output_type": "stream",
     "text": [
      "25.2356927486\n"
     ]
    },
    {
     "data": {
      "text/plain": [
       "0.77710785795321524"
      ]
     },
     "execution_count": 118,
     "metadata": {},
     "output_type": "execute_result"
    }
   ],
   "source": [
    "linregl = LinearRegression()\n",
    "linregl.fit(Xl_train, yl_train)\n",
    "yl_pred = linregl.predict(Xl_test)\n",
    "# print rmse(yl_pred, yl_test), '  ', np.sqrt(rmse(yl_pred, yl_test))\n",
    "# print mae(yl_pred, yl_test)\n",
    "print median_absolute_error(np.expm1(yl_test), np.expm1(yl_pred))\n",
    "\n",
    "linregl.score(Xl_test, yl_test)"
   ]
  },
  {
   "cell_type": "code",
   "execution_count": 119,
   "metadata": {
    "collapsed": false
   },
   "outputs": [
    {
     "name": "stdout",
     "output_type": "stream",
     "text": [
      "Percent within 5 of price:   12.909\n",
      "Percent within 10 of price:  23.764\n",
      "Percent within 20 of price:  43.417\n",
      "\n",
      "Median error (percent):      23.646\n",
      "\n",
      "Percent within 5 of price:   15.607\n",
      "Percent within 10 of price:  30.443\n",
      "Percent within 20 of price:  55.363\n",
      "\n",
      "Median error (percent):      17.507\n"
     ]
    }
   ],
   "source": [
    "print_percents(y_pred, y_test)\n",
    "print_percents_log(yl_pred, yl_test)"
   ]
  },
  {
   "cell_type": "code",
   "execution_count": 120,
   "metadata": {
    "collapsed": false
   },
   "outputs": [
    {
     "data": {
      "text/plain": [
       "[<matplotlib.lines.Line2D at 0x7f80b3c5c610>]"
      ]
     },
     "execution_count": 120,
     "metadata": {},
     "output_type": "execute_result"
    },
    {
     "data": {
      "image/png": "[encoded data removed]",
      "text/plain": [
       "<matplotlib.figure.Figure at 0x7f80b9b04a50>"
      ]
     },
     "metadata": {},
     "output_type": "display_data"
    }
   ],
   "source": [
    "#sns.regplot(y_pred, y_test, marker='+', scatter_kws={'alpha':0.3})\n",
    "sns.regplot(np.expm1(yl_pred), np.expm1(yl_test), marker='+', scatter_kws={'alpha':0.3})\n",
    "plt.plot(range(0,2000), range(0,2000))\n",
    "# plt.xlim((0,3000))\n",
    "# plt.ylim((0,3000));"
   ]
  },
  {
   "cell_type": "code",
   "execution_count": 121,
   "metadata": {
    "collapsed": false
   },
   "outputs": [
    {
     "data": {
      "image/png": "[encoded data removed]",
      "text/plain": [
       "<matplotlib.figure.Figure at 0x7f80b6cc8850>"
      ]
     },
     "metadata": {},
     "output_type": "display_data"
    }
   ],
   "source": [
    "plt.hist(y_pred, bins=np.linspace(0,1500, num=80), alpha=0.5)\n",
    "plt.hist(y_test, bins=np.linspace(0,1500, num=80), alpha=0.5, color='r');\n",
    "# plt.hist(np.expm1(y_pred), bins=np.linspace(0,3000, num=80), alpha=0.5)\n",
    "# plt.hist(np.expm1(y_test), bins=np.linspace(0,3000, num=80), alpha=0.5, color='r');"
   ]
  },
  {
   "cell_type": "code",
   "execution_count": null,
   "metadata": {
    "collapsed": true
   },
   "outputs": [],
   "source": []
  },
  {
   "cell_type": "code",
   "execution_count": null,
   "metadata": {
    "collapsed": true
   },
   "outputs": [],
   "source": []
  },
  {
   "cell_type": "code",
   "execution_count": 122,
   "metadata": {
    "collapsed": false
   },
   "outputs": [
    {
     "name": "stdout",
     "output_type": "stream",
     "text": [
      "94.3651497569\n",
      "51.1776364804\n",
      "26.762\n"
     ]
    },
    {
     "data": {
      "text/plain": [
       "0.65409903877384667"
      ]
     },
     "execution_count": 122,
     "metadata": {},
     "output_type": "execute_result"
    }
   ],
   "source": [
    "rfr = RandomForestRegressor(n_estimators=500, n_jobs=-1)#min_samples_split=2, min_samples_leaf=1)\n",
    "rfr.fit(X_train, y_train)\n",
    "y_pred = rfr.predict(X_test)\n",
    "print rmse(y_pred, y_test)\n",
    "print mae(y_pred, y_test)\n",
    "print median_absolute_error(y_test, y_pred)\n",
    "\n",
    "rfr.score(X_test, y_test)"
   ]
  },
  {
   "cell_type": "code",
   "execution_count": 123,
   "metadata": {
    "collapsed": false
   },
   "outputs": [
    {
     "name": "stdout",
     "output_type": "stream",
     "text": [
      "92.5192304187\n",
      "48.4258835607\n",
      "25.5657514197\n"
     ]
    },
    {
     "data": {
      "text/plain": [
       "0.7723370903511142"
      ]
     },
     "execution_count": 123,
     "metadata": {},
     "output_type": "execute_result"
    }
   ],
   "source": [
    "rfrl = RandomForestRegressor(n_estimators=500, n_jobs=-1)#min_samples_split=2, min_samples_leaf=1)\n",
    "rfrl.fit(Xl_train, yl_train)\n",
    "yl_pred = rfrl.predict(Xl_test)\n",
    "\n",
    "print rmse(np.expm1(yl_pred), np.expm1(yl_test))\n",
    "print mae(np.expm1(yl_pred), np.expm1(yl_test))\n",
    "print median_absolute_error(np.expm1(yl_pred), np.expm1(yl_test))\n",
    "rfrl.score(Xl_test, yl_test)"
   ]
  },
  {
   "cell_type": "code",
   "execution_count": 124,
   "metadata": {
    "collapsed": false
   },
   "outputs": [
    {
     "name": "stdout",
     "output_type": "stream",
     "text": [
      "Percent within 5 of price:   16.249\n",
      "Percent within 10 of price:  31.214\n",
      "Percent within 20 of price:  54.849\n",
      "\n",
      "Median error (percent):      17.638\n",
      "\n",
      "Percent within 5 of price:   15.992\n",
      "Percent within 10 of price:  32.241\n",
      "Percent within 20 of price:  57.033\n",
      "\n",
      "Median error (percent):      17.161\n"
     ]
    }
   ],
   "source": [
    "print_percents(y_pred, y_test)\n",
    "print_percents_log(yl_pred, yl_test)"
   ]
  },
  {
   "cell_type": "code",
   "execution_count": 125,
   "metadata": {
    "collapsed": false
   },
   "outputs": [
    {
     "data": {
      "text/plain": [
       "[<matplotlib.lines.Line2D at 0x7f80b9e20f10>]"
      ]
     },
     "execution_count": 125,
     "metadata": {},
     "output_type": "execute_result"
    },
    {
     "data": {
      "image/png": "[encoded data removed]",
      "text/plain": [
       "<matplotlib.figure.Figure at 0x7f80bab2c5d0>"
      ]
     },
     "metadata": {},
     "output_type": "display_data"
    }
   ],
   "source": [
    "# sns.regplot(y_pred, y_test, marker='+', scatter_kws={'alpha':0.3})\n",
    "sns.regplot(np.expm1(yl_pred), np.expm1(yl_test), marker='+', scatter_kws={'alpha':0.3})\n",
    "plt.plot(range(0,2000), range(0,2000))\n",
    "# plt.xlim((0,3000))\n",
    "# plt.ylim((0,3000));"
   ]
  },
  {
   "cell_type": "code",
   "execution_count": 126,
   "metadata": {
    "collapsed": false
   },
   "outputs": [
    {
     "data": {
      "image/png": "[encoded data removed]",
      "text/plain": [
       "<matplotlib.figure.Figure at 0x7f80b8e02e50>"
      ]
     },
     "metadata": {},
     "output_type": "display_data"
    }
   ],
   "source": [
    "# plt.hist(y_pred, bins=np.linspace(0,1500, num=80), alpha=0.5)\n",
    "# plt.hist(y_test, bins=np.linspace(0,1500, num=80), alpha=0.5, color='r');\n",
    "plt.hist(np.expm1(yl_pred), bins=np.linspace(0,3000, num=80), alpha=0.5)\n",
    "plt.hist(np.expm1(yl_test), bins=np.linspace(0,3000, num=80), alpha=0.5, color='r');"
   ]
  },
  {
   "cell_type": "code",
   "execution_count": null,
   "metadata": {
    "collapsed": true
   },
   "outputs": [],
   "source": []
  },
  {
   "cell_type": "code",
   "execution_count": 127,
   "metadata": {
    "collapsed": false
   },
   "outputs": [
    {
     "name": "stdout",
     "output_type": "stream",
     "text": [
      "91.8978329791 49.5787392832\n",
      "26.7288970947\n"
     ]
    },
    {
     "data": {
      "text/plain": [
       "0.67195075469504695"
      ]
     },
     "execution_count": 127,
     "metadata": {},
     "output_type": "execute_result"
    }
   ],
   "source": [
    "xgb = XGBRegressor(n_estimators=1000)\n",
    "xgb.fit(X_train, y_train)\n",
    "y_pred = xgb.predict(X_test)\n",
    "print rmse(y_pred, y_test),\n",
    "print mae(y_pred, y_test)\n",
    "print median_absolute_error(y_test, y_pred)\n",
    "xgb.score(X_test, y_test)"
   ]
  },
  {
   "cell_type": "code",
   "execution_count": 128,
   "metadata": {
    "collapsed": false
   },
   "outputs": [
    {
     "name": "stdout",
     "output_type": "stream",
     "text": [
      "85.6787030229\n",
      "44.9333260536\n",
      "22.3376464844\n"
     ]
    },
    {
     "data": {
      "text/plain": [
       "0.79992851475577775"
      ]
     },
     "execution_count": 128,
     "metadata": {},
     "output_type": "execute_result"
    }
   ],
   "source": [
    "xgbl = XGBRegressor(n_estimators=1000)\n",
    "xgbl.fit(Xl_train, yl_train)\n",
    "yl_pred = xgbl.predict(Xl_test)\n",
    "print rmse(np.expm1(yl_pred), np.expm1(yl_test))\n",
    "print mae(np.expm1(yl_pred), np.expm1(yl_test))\n",
    "print median_absolute_error(np.expm1(yl_test), np.expm1(yl_pred))\n",
    "xgbl.score(Xl_test, yl_test)"
   ]
  },
  {
   "cell_type": "code",
   "execution_count": 129,
   "metadata": {
    "collapsed": false
   },
   "outputs": [
    {
     "name": "stdout",
     "output_type": "stream",
     "text": [
      "Percent within 5 of price:   15.350\n",
      "Percent within 10 of price:  29.544\n",
      "Percent within 20 of price:  53.629\n",
      "\n",
      "Median error (percent):      18.404\n",
      "\n",
      "Percent within 5 of price:   17.405\n",
      "Percent within 10 of price:  34.875\n",
      "Percent within 20 of price:  58.767\n",
      "\n",
      "Median error (percent):      15.641\n"
     ]
    }
   ],
   "source": [
    "print_percents(y_pred, y_test)\n",
    "print_percents_log(yl_pred, yl_test)"
   ]
  },
  {
   "cell_type": "code",
   "execution_count": null,
   "metadata": {
    "collapsed": true
   },
   "outputs": [],
   "source": []
  },
  {
   "cell_type": "code",
   "execution_count": 130,
   "metadata": {
    "collapsed": false
   },
   "outputs": [
    {
     "name": "stdout",
     "output_type": "stream",
     "text": [
      "91.0814409193\n",
      "49.0491249197\n",
      "25.6475\n"
     ]
    },
    {
     "data": {
      "text/plain": [
       "0.67775344208090604"
      ]
     },
     "execution_count": 130,
     "metadata": {},
     "output_type": "execute_result"
    }
   ],
   "source": [
    "etr = ExtraTreesRegressor(n_jobs=-1, n_estimators=400, bootstrap=True)\n",
    "etr.fit(X_train, y_train)\n",
    "y_pred = etr.predict(X_test)\n",
    "print rmse(y_pred, y_test)\n",
    "print mae(y_pred, y_test)\n",
    "print median_absolute_error(y_test, y_pred)\n",
    "etr.score(X_test, y_test)"
   ]
  },
  {
   "cell_type": "code",
   "execution_count": 131,
   "metadata": {
    "collapsed": false
   },
   "outputs": [
    {
     "name": "stdout",
     "output_type": "stream",
     "text": [
      "91.4931240552\n",
      "46.955920377\n",
      "23.8949673372\n"
     ]
    },
    {
     "data": {
      "text/plain": [
       "0.78427302505238083"
      ]
     },
     "execution_count": 131,
     "metadata": {},
     "output_type": "execute_result"
    }
   ],
   "source": [
    "etrl = ExtraTreesRegressor(n_jobs=-1, n_estimators=400, bootstrap=True)\n",
    "etrl.fit(Xl_train, yl_train)\n",
    "yl_pred = etrl.predict(Xl_test)\n",
    "print rmse(np.expm1(yl_pred), np.expm1(yl_test))\n",
    "print mae(np.expm1(yl_pred), np.expm1(yl_test))\n",
    "print median_absolute_error(np.expm1(yl_pred), np.expm1(yl_test))\n",
    "etrl.score(Xl_test, yl_test)\n"
   ]
  },
  {
   "cell_type": "code",
   "execution_count": 132,
   "metadata": {
    "collapsed": false,
    "scrolled": true
   },
   "outputs": [
    {
     "name": "stdout",
     "output_type": "stream",
     "text": [
      "Percent within 5 of price:   18.369\n",
      "Percent within 10 of price:  31.728\n",
      "Percent within 20 of price:  56.583\n",
      "\n",
      "Median error (percent):      17.032\n",
      "\n",
      "Percent within 5 of price:   16.956\n",
      "Percent within 10 of price:  33.526\n",
      "Percent within 20 of price:  58.703\n",
      "\n",
      "Median error (percent):      16.008\n"
     ]
    }
   ],
   "source": [
    "print_percents(y_pred, y_test)\n",
    "print_percents_log(yl_pred, yl_test)"
   ]
  },
  {
   "cell_type": "code",
   "execution_count": null,
   "metadata": {
    "collapsed": true
   },
   "outputs": [],
   "source": []
  },
  {
   "cell_type": "code",
   "execution_count": 14,
   "metadata": {
    "collapsed": false
   },
   "outputs": [
    {
     "name": "stdout",
     "output_type": "stream",
     "text": [
      "87.6469171947\n",
      "48.3531293374\n",
      "27.3744068158\n"
     ]
    },
    {
     "data": {
      "text/plain": [
       "0.70159795681287607"
      ]
     },
     "execution_count": 14,
     "metadata": {},
     "output_type": "execute_result"
    }
   ],
   "source": [
    "gbr = GradientBoostingRegressor(n_estimators=300)\n",
    "gbr.fit(X_train, y_train)\n",
    "y_pred = gbr.predict(X_test)\n",
    "print rmse(y_pred, y_test)\n",
    "print mae(y_pred, y_test)\n",
    "print median_absolute_error(y_test, y_pred)\n",
    "gbr.score(X_test, y_test)"
   ]
  },
  {
   "cell_type": "code",
   "execution_count": 15,
   "metadata": {
    "collapsed": false
   },
   "outputs": [
    {
     "name": "stdout",
     "output_type": "stream",
     "text": [
      "83.8113874687\n",
      "43.937214657\n",
      "22.429911406\n"
     ]
    },
    {
     "data": {
      "text/plain": [
       "0.80997260505926583"
      ]
     },
     "execution_count": 15,
     "metadata": {},
     "output_type": "execute_result"
    }
   ],
   "source": [
    "gbrl = GradientBoostingRegressor(n_estimators=300)\n",
    "gbrl.fit(Xl_train, yl_train)\n",
    "yl_pred = gbrl.predict(Xl_test)\n",
    "print rmse(np.expm1(yl_pred), np.expm1(yl_test))\n",
    "print mae(np.expm1(yl_pred), np.expm1(yl_test))\n",
    "print median_absolute_error(np.expm1(yl_pred), np.expm1(yl_test))\n",
    "gbrl.score(Xl_test, yl_test)"
   ]
  },
  {
   "cell_type": "code",
   "execution_count": 16,
   "metadata": {
    "collapsed": false
   },
   "outputs": [
    {
     "name": "stdout",
     "output_type": "stream",
     "text": [
      "Percent within 5 of price:   16.570\n",
      "Percent within 10 of price:  30.379\n",
      "Percent within 20 of price:  53.179\n",
      "\n",
      "Median error (percent):      18.656\n",
      "\n",
      "Percent within 5 of price:   18.304\n",
      "Percent within 10 of price:  34.297\n",
      "Percent within 20 of price:  58.638\n",
      "\n",
      "Median error (percent):      15.857\n"
     ]
    }
   ],
   "source": [
    "print_percents(y_pred, y_test)\n",
    "print_percents_log(yl_pred, yl_test)"
   ]
  },
  {
   "cell_type": "code",
   "execution_count": 17,
   "metadata": {
    "collapsed": false
   },
   "outputs": [
    {
     "data": {
      "image/png": "[encoded data removed]",
      "text/plain": [
       "<matplotlib.figure.Figure at 0x1230a07d0>"
      ]
     },
     "metadata": {
      "image/png": {
       "height": 391,
       "width": 561
      }
     },
     "output_type": "display_data"
    }
   ],
   "source": [
    "def plot_learning_curve(estimator, title, X, y, ylim=None, cv=None,\n",
    "                        n_jobs=1, train_sizes=np.linspace(.1, 1.0, 6)):\n",
    "    plt.figure()\n",
    "    plt.title(title)\n",
    "#     if ylim is not None:\n",
    "#         plt.ylim(*ylim)\n",
    "    plt.xlabel(\"Training examples\")\n",
    "    plt.ylabel(\"Score\")\n",
    "    train_sizes, train_scores, test_scores = learning_curve(\n",
    "        estimator, X, y, cv=cv, n_jobs=n_jobs, train_sizes=train_sizes, \n",
    "        scoring=\"neg_median_absolute_error\")\n",
    "    train_scores_mean = np.mean(train_scores, axis=1)\n",
    "    train_scores_std = np.std(train_scores, axis=1)\n",
    "    test_scores_mean = np.mean(test_scores, axis=1)\n",
    "    test_scores_std = np.std(test_scores, axis=1)\n",
    "    plt.grid()\n",
    "\n",
    "    plt.fill_between(train_sizes, train_scores_mean - train_scores_std,\n",
    "                     train_scores_mean + train_scores_std, alpha=0.1,\n",
    "                     color=\"r\")\n",
    "    plt.fill_between(train_sizes, test_scores_mean - test_scores_std,\n",
    "                     test_scores_mean + test_scores_std, alpha=0.1, color=\"g\")\n",
    "    plt.plot(train_sizes, np.abs(train_scores_mean), 'o-', color=\"r\",\n",
    "             label=\"Training score\")\n",
    "    plt.plot(train_sizes, np.abs(test_scores_mean), 'o-', color=\"g\",\n",
    "             label=\"Cross-validation score\")\n",
    "\n",
    "    plt.legend(loc=\"best\")\n",
    "    return plt\n",
    "gbrl = GradientBoostingRegressor(n_estimators=400, max_depth=3, max_features='sqrt', \n",
    "                                 min_samples_leaf=3, min_samples_split=5)\n",
    "title = \"Learning Curves (Airbnb - GBR)\"\n",
    "cv = ShuffleSplit(n_splits=3, test_size=0.2, random_state=100)\n",
    "plot_learning_curve(gbrl, title, X, yl, (0.1, 1.01), cv=cv)\n",
    "plt.ylim((0,0.4))\n",
    "plt.savefig('bnb_best_gbr_median_ae_LC_vq.pdf')\n",
    "plt.show()"
   ]
  },
  {
   "cell_type": "code",
   "execution_count": null,
   "metadata": {
    "collapsed": true
   },
   "outputs": [],
   "source": []
  },
  {
   "cell_type": "markdown",
   "metadata": {},
   "source": [
    "## Property (tax roll) models (log_transform comparison)"
   ]
  },
  {
   "cell_type": "code",
   "execution_count": 21,
   "metadata": {
    "collapsed": true
   },
   "outputs": [],
   "source": [
    "# #res_rolls_cut = pd.read_pickle('./res_rolls_cut')\n",
    "# res_rolls_cut = pd.read_pickle('./res_rolls_cut_geo')\n",
    "# res_rolls_cut = res_rolls_cut[(res_rolls_cut.land_and_impro_val > 100000) & \n",
    "#                               (res_rolls_cut.land_and_impro_val < 5000000)]\n",
    "# res_rolls_cut.shape"
   ]
  },
  {
   "cell_type": "code",
   "execution_count": null,
   "metadata": {
    "collapsed": true
   },
   "outputs": [],
   "source": [
    "# #res_rolls_cut = pd.read_pickle('./res_rolls_cut')\n",
    "# res_rolls_test = pd.read_pickle('./res_rolls_cut_geo')\n",
    "# res_rolls_test = res_rolls_test[(res_rolls_test.land_and_impro_val > 100000) & \n",
    "#                                 (res_rolls_test.land_and_impro_val < 7000000)]\n",
    "# res_rolls_test.shape"
   ]
  },
  {
   "cell_type": "code",
   "execution_count": 8,
   "metadata": {
    "collapsed": false
   },
   "outputs": [
    {
     "data": {
      "text/plain": [
       "(293177, 15)"
      ]
     },
     "execution_count": 8,
     "metadata": {},
     "output_type": "execute_result"
    }
   ],
   "source": [
    "#res_rolls_cut = pd.read_pickle('./res_rolls_cut')\n",
    "res_rolls_cut = pd.read_pickle('./res_rolls_cut_geo')\n",
    "res_rolls_test = pd.DataFrame(res_rolls_cut)\n",
    "res_rolls_test = res_rolls_test[(res_rolls_test.land_and_impro_val > 100000) & \n",
    "                                (res_rolls_test.land_and_impro_val < 7000000)]\n",
    "res_rolls_test.shape"
   ]
  },
  {
   "cell_type": "code",
   "execution_count": 9,
   "metadata": {
    "collapsed": false
   },
   "outputs": [
    {
     "name": "stdout",
     "output_type": "stream",
     "text": [
      "(293177, 15)\n"
     ]
    },
    {
     "data": {
      "image/png": "[encoded data removed]",
      "text/plain": [
       "<matplotlib.figure.Figure at 0x7fac04877c50>"
      ]
     },
     "metadata": {},
     "output_type": "display_data"
    }
   ],
   "source": [
    "print res_rolls_test.shape\n",
    "res_rolls_test.land_and_impro_val.hist(bins=200);"
   ]
  },
  {
   "cell_type": "code",
   "execution_count": 10,
   "metadata": {
    "collapsed": false
   },
   "outputs": [
    {
     "data": {
      "text/plain": [
       "(293177, 31)"
      ]
     },
     "execution_count": 10,
     "metadata": {},
     "output_type": "execute_result"
    }
   ],
   "source": [
    "res_rolls_test = compile_model_data('crime and 311', res_rolls_test, short_311_cats, \n",
    "                                    short_crime_cats, crime_15up, rec_15up, \n",
    "                                    r_crime=0.003, r_311=0.003)\n",
    "res_rolls_test.shape"
   ]
  },
  {
   "cell_type": "code",
   "execution_count": 11,
   "metadata": {
    "collapsed": true
   },
   "outputs": [],
   "source": [
    "res_rolls_test = find_neigh_cnt('park_reg_pts', park_reg_pts, res_rolls_test, r=0.004)\n"
   ]
  },
  {
   "cell_type": "code",
   "execution_count": 12,
   "metadata": {
    "collapsed": true
   },
   "outputs": [],
   "source": [
    "res_rolls_test = find_neigh_cnt('ldn_76', ldn_76, res_rolls_test, r=0.001)\n",
    "res_rolls_test = find_neigh_cnt('ldn_74', ldn_74, res_rolls_test, r=0.001)\n",
    "res_rolls_test = find_neigh_cnt('ldn_72', ldn_72, res_rolls_test, r=0.001)\n",
    "res_rolls_test = find_neigh_cnt('ldn_70', ldn_70, res_rolls_test, r=0.001)\n",
    "res_rolls_test = find_neigh_cnt('ldn_66', ldn_66, res_rolls_test, r=0.001)"
   ]
  },
  {
   "cell_type": "code",
   "execution_count": null,
   "metadata": {
    "collapsed": true
   },
   "outputs": [],
   "source": []
  },
  {
   "cell_type": "code",
   "execution_count": null,
   "metadata": {
    "collapsed": true
   },
   "outputs": [],
   "source": []
  },
  {
   "cell_type": "code",
   "execution_count": null,
   "metadata": {
    "collapsed": true
   },
   "outputs": [],
   "source": []
  },
  {
   "cell_type": "code",
   "execution_count": null,
   "metadata": {
    "collapsed": true
   },
   "outputs": [],
   "source": []
  },
  {
   "cell_type": "code",
   "execution_count": 157,
   "metadata": {
    "collapsed": false,
    "scrolled": true
   },
   "outputs": [
    {
     "data": {
      "text/html": [
       "<div>\n",
       "<table border=\"1\" class=\"dataframe\">\n",
       "  <thead>\n",
       "    <tr style=\"text-align: right;\">\n",
       "      <th></th>\n",
       "      <th>Number of Bathrooms</th>\n",
       "      <th>Number of Bedrooms</th>\n",
       "      <th>Number of Rooms</th>\n",
       "      <th>Number of Stories</th>\n",
       "      <th>Number of Units</th>\n",
       "      <th>Property Area in Square Feet</th>\n",
       "      <th>Percent of Ownership</th>\n",
       "      <th>land_and_impro_val</th>\n",
       "      <th>age</th>\n",
       "      <th>latitude</th>\n",
       "      <th>...</th>\n",
       "      <th>SFHA Requests_cnt</th>\n",
       "      <th>Street Defects_cnt</th>\n",
       "      <th>Sidewalk or Curb_cnt</th>\n",
       "      <th>Color Curb_cnt</th>\n",
       "      <th>park_reg_pts</th>\n",
       "      <th>ldn_76</th>\n",
       "      <th>ldn_74</th>\n",
       "      <th>ldn_72</th>\n",
       "      <th>ldn_70</th>\n",
       "      <th>ldn_66</th>\n",
       "    </tr>\n",
       "  </thead>\n",
       "  <tbody>\n",
       "    <tr>\n",
       "      <th>0</th>\n",
       "      <td>2.0</td>\n",
       "      <td>2</td>\n",
       "      <td>5</td>\n",
       "      <td>1</td>\n",
       "      <td>0</td>\n",
       "      <td>1670</td>\n",
       "      <td>1.00000</td>\n",
       "      <td>1901208.0</td>\n",
       "      <td>12.0</td>\n",
       "      <td>37.786291</td>\n",
       "      <td>...</td>\n",
       "      <td>0</td>\n",
       "      <td>112</td>\n",
       "      <td>62</td>\n",
       "      <td>6</td>\n",
       "      <td>0</td>\n",
       "      <td>158</td>\n",
       "      <td>151</td>\n",
       "      <td>141</td>\n",
       "      <td>135</td>\n",
       "      <td>156</td>\n",
       "    </tr>\n",
       "    <tr>\n",
       "      <th>1</th>\n",
       "      <td>3.0</td>\n",
       "      <td>3</td>\n",
       "      <td>6</td>\n",
       "      <td>1</td>\n",
       "      <td>1</td>\n",
       "      <td>1450</td>\n",
       "      <td>1.00000</td>\n",
       "      <td>866405.0</td>\n",
       "      <td>110.0</td>\n",
       "      <td>37.764694</td>\n",
       "      <td>...</td>\n",
       "      <td>0</td>\n",
       "      <td>21</td>\n",
       "      <td>24</td>\n",
       "      <td>17</td>\n",
       "      <td>36</td>\n",
       "      <td>178</td>\n",
       "      <td>175</td>\n",
       "      <td>190</td>\n",
       "      <td>202</td>\n",
       "      <td>192</td>\n",
       "    </tr>\n",
       "    <tr>\n",
       "      <th>2</th>\n",
       "      <td>3.0</td>\n",
       "      <td>3</td>\n",
       "      <td>5</td>\n",
       "      <td>2</td>\n",
       "      <td>1</td>\n",
       "      <td>1037</td>\n",
       "      <td>1.00000</td>\n",
       "      <td>590004.0</td>\n",
       "      <td>35.0</td>\n",
       "      <td>37.781386</td>\n",
       "      <td>...</td>\n",
       "      <td>61</td>\n",
       "      <td>61</td>\n",
       "      <td>25</td>\n",
       "      <td>0</td>\n",
       "      <td>88</td>\n",
       "      <td>182</td>\n",
       "      <td>159</td>\n",
       "      <td>180</td>\n",
       "      <td>164</td>\n",
       "      <td>174</td>\n",
       "    </tr>\n",
       "    <tr>\n",
       "      <th>4</th>\n",
       "      <td>2.0</td>\n",
       "      <td>2</td>\n",
       "      <td>10</td>\n",
       "      <td>3</td>\n",
       "      <td>1</td>\n",
       "      <td>2920</td>\n",
       "      <td>1.00000</td>\n",
       "      <td>321306.0</td>\n",
       "      <td>113.0</td>\n",
       "      <td>37.770028</td>\n",
       "      <td>...</td>\n",
       "      <td>0</td>\n",
       "      <td>51</td>\n",
       "      <td>12</td>\n",
       "      <td>11</td>\n",
       "      <td>238</td>\n",
       "      <td>70</td>\n",
       "      <td>112</td>\n",
       "      <td>148</td>\n",
       "      <td>166</td>\n",
       "      <td>187</td>\n",
       "    </tr>\n",
       "    <tr>\n",
       "      <th>10</th>\n",
       "      <td>3.0</td>\n",
       "      <td>3</td>\n",
       "      <td>6</td>\n",
       "      <td>1</td>\n",
       "      <td>1</td>\n",
       "      <td>1705</td>\n",
       "      <td>1.00000</td>\n",
       "      <td>717439.0</td>\n",
       "      <td>92.0</td>\n",
       "      <td>37.776400</td>\n",
       "      <td>...</td>\n",
       "      <td>0</td>\n",
       "      <td>53</td>\n",
       "      <td>24</td>\n",
       "      <td>1</td>\n",
       "      <td>0</td>\n",
       "      <td>0</td>\n",
       "      <td>0</td>\n",
       "      <td>0</td>\n",
       "      <td>0</td>\n",
       "      <td>113</td>\n",
       "    </tr>\n",
       "    <tr>\n",
       "      <th>11</th>\n",
       "      <td>4.0</td>\n",
       "      <td>4</td>\n",
       "      <td>11</td>\n",
       "      <td>2</td>\n",
       "      <td>3</td>\n",
       "      <td>2771</td>\n",
       "      <td>1.00000</td>\n",
       "      <td>1120850.0</td>\n",
       "      <td>117.0</td>\n",
       "      <td>37.779537</td>\n",
       "      <td>...</td>\n",
       "      <td>181</td>\n",
       "      <td>35</td>\n",
       "      <td>38</td>\n",
       "      <td>7</td>\n",
       "      <td>81</td>\n",
       "      <td>151</td>\n",
       "      <td>156</td>\n",
       "      <td>192</td>\n",
       "      <td>201</td>\n",
       "      <td>224</td>\n",
       "    </tr>\n",
       "    <tr>\n",
       "      <th>15</th>\n",
       "      <td>3.0</td>\n",
       "      <td>3</td>\n",
       "      <td>5</td>\n",
       "      <td>2</td>\n",
       "      <td>1</td>\n",
       "      <td>1090</td>\n",
       "      <td>1.00000</td>\n",
       "      <td>224754.0</td>\n",
       "      <td>33.0</td>\n",
       "      <td>37.751406</td>\n",
       "      <td>...</td>\n",
       "      <td>181</td>\n",
       "      <td>35</td>\n",
       "      <td>6</td>\n",
       "      <td>1</td>\n",
       "      <td>0</td>\n",
       "      <td>0</td>\n",
       "      <td>0</td>\n",
       "      <td>11</td>\n",
       "      <td>19</td>\n",
       "      <td>258</td>\n",
       "    </tr>\n",
       "    <tr>\n",
       "      <th>16</th>\n",
       "      <td>10.0</td>\n",
       "      <td>10</td>\n",
       "      <td>22</td>\n",
       "      <td>2</td>\n",
       "      <td>1</td>\n",
       "      <td>3924</td>\n",
       "      <td>1.00000</td>\n",
       "      <td>2001739.0</td>\n",
       "      <td>44.0</td>\n",
       "      <td>37.761491</td>\n",
       "      <td>...</td>\n",
       "      <td>0</td>\n",
       "      <td>60</td>\n",
       "      <td>13</td>\n",
       "      <td>9</td>\n",
       "      <td>0</td>\n",
       "      <td>2</td>\n",
       "      <td>66</td>\n",
       "      <td>75</td>\n",
       "      <td>63</td>\n",
       "      <td>193</td>\n",
       "    </tr>\n",
       "    <tr>\n",
       "      <th>25</th>\n",
       "      <td>4.0</td>\n",
       "      <td>4</td>\n",
       "      <td>8</td>\n",
       "      <td>1</td>\n",
       "      <td>1</td>\n",
       "      <td>1445</td>\n",
       "      <td>1.00000</td>\n",
       "      <td>1280000.0</td>\n",
       "      <td>66.0</td>\n",
       "      <td>37.734753</td>\n",
       "      <td>...</td>\n",
       "      <td>0</td>\n",
       "      <td>48</td>\n",
       "      <td>28</td>\n",
       "      <td>4</td>\n",
       "      <td>9</td>\n",
       "      <td>115</td>\n",
       "      <td>136</td>\n",
       "      <td>137</td>\n",
       "      <td>140</td>\n",
       "      <td>246</td>\n",
       "    </tr>\n",
       "    <tr>\n",
       "      <th>30</th>\n",
       "      <td>2.0</td>\n",
       "      <td>2</td>\n",
       "      <td>5</td>\n",
       "      <td>1</td>\n",
       "      <td>1</td>\n",
       "      <td>1043</td>\n",
       "      <td>1.00000</td>\n",
       "      <td>173287.0</td>\n",
       "      <td>37.0</td>\n",
       "      <td>37.744909</td>\n",
       "      <td>...</td>\n",
       "      <td>0</td>\n",
       "      <td>63</td>\n",
       "      <td>42</td>\n",
       "      <td>15</td>\n",
       "      <td>74</td>\n",
       "      <td>95</td>\n",
       "      <td>114</td>\n",
       "      <td>101</td>\n",
       "      <td>110</td>\n",
       "      <td>109</td>\n",
       "    </tr>\n",
       "    <tr>\n",
       "      <th>32</th>\n",
       "      <td>4.0</td>\n",
       "      <td>4</td>\n",
       "      <td>12</td>\n",
       "      <td>2</td>\n",
       "      <td>4</td>\n",
       "      <td>4000</td>\n",
       "      <td>0.16666</td>\n",
       "      <td>300416.0</td>\n",
       "      <td>105.0</td>\n",
       "      <td>37.778727</td>\n",
       "      <td>...</td>\n",
       "      <td>0</td>\n",
       "      <td>36</td>\n",
       "      <td>37</td>\n",
       "      <td>15</td>\n",
       "      <td>37</td>\n",
       "      <td>0</td>\n",
       "      <td>0</td>\n",
       "      <td>0</td>\n",
       "      <td>0</td>\n",
       "      <td>165</td>\n",
       "    </tr>\n",
       "    <tr>\n",
       "      <th>34</th>\n",
       "      <td>1.0</td>\n",
       "      <td>1</td>\n",
       "      <td>3</td>\n",
       "      <td>1</td>\n",
       "      <td>1</td>\n",
       "      <td>946</td>\n",
       "      <td>1.00000</td>\n",
       "      <td>531648.0</td>\n",
       "      <td>27.0</td>\n",
       "      <td>37.783185</td>\n",
       "      <td>...</td>\n",
       "      <td>0</td>\n",
       "      <td>69</td>\n",
       "      <td>29</td>\n",
       "      <td>6</td>\n",
       "      <td>0</td>\n",
       "      <td>165</td>\n",
       "      <td>142</td>\n",
       "      <td>136</td>\n",
       "      <td>128</td>\n",
       "      <td>150</td>\n",
       "    </tr>\n",
       "    <tr>\n",
       "      <th>36</th>\n",
       "      <td>2.0</td>\n",
       "      <td>2</td>\n",
       "      <td>4</td>\n",
       "      <td>1</td>\n",
       "      <td>1</td>\n",
       "      <td>1175</td>\n",
       "      <td>1.00000</td>\n",
       "      <td>316756.0</td>\n",
       "      <td>37.0</td>\n",
       "      <td>37.745981</td>\n",
       "      <td>...</td>\n",
       "      <td>0</td>\n",
       "      <td>20</td>\n",
       "      <td>7</td>\n",
       "      <td>2</td>\n",
       "      <td>255</td>\n",
       "      <td>97</td>\n",
       "      <td>120</td>\n",
       "      <td>165</td>\n",
       "      <td>191</td>\n",
       "      <td>172</td>\n",
       "    </tr>\n",
       "    <tr>\n",
       "      <th>39</th>\n",
       "      <td>4.0</td>\n",
       "      <td>4</td>\n",
       "      <td>9</td>\n",
       "      <td>1</td>\n",
       "      <td>1</td>\n",
       "      <td>1814</td>\n",
       "      <td>0.50000</td>\n",
       "      <td>931678.0</td>\n",
       "      <td>45.0</td>\n",
       "      <td>37.757556</td>\n",
       "      <td>...</td>\n",
       "      <td>0</td>\n",
       "      <td>10</td>\n",
       "      <td>14</td>\n",
       "      <td>2</td>\n",
       "      <td>134</td>\n",
       "      <td>0</td>\n",
       "      <td>0</td>\n",
       "      <td>0</td>\n",
       "      <td>0</td>\n",
       "      <td>14</td>\n",
       "    </tr>\n",
       "    <tr>\n",
       "      <th>42</th>\n",
       "      <td>4.0</td>\n",
       "      <td>4</td>\n",
       "      <td>13</td>\n",
       "      <td>2</td>\n",
       "      <td>2</td>\n",
       "      <td>3340</td>\n",
       "      <td>1.00000</td>\n",
       "      <td>1654564.0</td>\n",
       "      <td>97.0</td>\n",
       "      <td>37.782897</td>\n",
       "      <td>...</td>\n",
       "      <td>35</td>\n",
       "      <td>30</td>\n",
       "      <td>17</td>\n",
       "      <td>22</td>\n",
       "      <td>28</td>\n",
       "      <td>0</td>\n",
       "      <td>0</td>\n",
       "      <td>0</td>\n",
       "      <td>7</td>\n",
       "      <td>91</td>\n",
       "    </tr>\n",
       "    <tr>\n",
       "      <th>44</th>\n",
       "      <td>4.0</td>\n",
       "      <td>4</td>\n",
       "      <td>9</td>\n",
       "      <td>3</td>\n",
       "      <td>1</td>\n",
       "      <td>3345</td>\n",
       "      <td>1.00000</td>\n",
       "      <td>1145390.0</td>\n",
       "      <td>104.0</td>\n",
       "      <td>37.785029</td>\n",
       "      <td>...</td>\n",
       "      <td>0</td>\n",
       "      <td>28</td>\n",
       "      <td>10</td>\n",
       "      <td>6</td>\n",
       "      <td>25</td>\n",
       "      <td>0</td>\n",
       "      <td>0</td>\n",
       "      <td>0</td>\n",
       "      <td>0</td>\n",
       "      <td>73</td>\n",
       "    </tr>\n",
       "    <tr>\n",
       "      <th>48</th>\n",
       "      <td>2.0</td>\n",
       "      <td>2</td>\n",
       "      <td>5</td>\n",
       "      <td>1</td>\n",
       "      <td>0</td>\n",
       "      <td>1410</td>\n",
       "      <td>0.33333</td>\n",
       "      <td>850000.0</td>\n",
       "      <td>11.0</td>\n",
       "      <td>37.777051</td>\n",
       "      <td>...</td>\n",
       "      <td>0</td>\n",
       "      <td>56</td>\n",
       "      <td>10</td>\n",
       "      <td>1</td>\n",
       "      <td>0</td>\n",
       "      <td>85</td>\n",
       "      <td>85</td>\n",
       "      <td>111</td>\n",
       "      <td>114</td>\n",
       "      <td>133</td>\n",
       "    </tr>\n",
       "    <tr>\n",
       "      <th>51</th>\n",
       "      <td>3.0</td>\n",
       "      <td>3</td>\n",
       "      <td>10</td>\n",
       "      <td>2</td>\n",
       "      <td>1</td>\n",
       "      <td>3016</td>\n",
       "      <td>1.00000</td>\n",
       "      <td>982054.0</td>\n",
       "      <td>107.0</td>\n",
       "      <td>37.785271</td>\n",
       "      <td>...</td>\n",
       "      <td>0</td>\n",
       "      <td>27</td>\n",
       "      <td>11</td>\n",
       "      <td>7</td>\n",
       "      <td>228</td>\n",
       "      <td>0</td>\n",
       "      <td>0</td>\n",
       "      <td>0</td>\n",
       "      <td>58</td>\n",
       "      <td>65</td>\n",
       "    </tr>\n",
       "    <tr>\n",
       "      <th>54</th>\n",
       "      <td>4.0</td>\n",
       "      <td>4</td>\n",
       "      <td>8</td>\n",
       "      <td>1</td>\n",
       "      <td>1</td>\n",
       "      <td>1893</td>\n",
       "      <td>1.00000</td>\n",
       "      <td>1030070.0</td>\n",
       "      <td>78.0</td>\n",
       "      <td>37.734221</td>\n",
       "      <td>...</td>\n",
       "      <td>0</td>\n",
       "      <td>9</td>\n",
       "      <td>17</td>\n",
       "      <td>7</td>\n",
       "      <td>133</td>\n",
       "      <td>0</td>\n",
       "      <td>0</td>\n",
       "      <td>0</td>\n",
       "      <td>73</td>\n",
       "      <td>68</td>\n",
       "    </tr>\n",
       "    <tr>\n",
       "      <th>57</th>\n",
       "      <td>3.0</td>\n",
       "      <td>3</td>\n",
       "      <td>7</td>\n",
       "      <td>1</td>\n",
       "      <td>1</td>\n",
       "      <td>1697</td>\n",
       "      <td>0.50000</td>\n",
       "      <td>153576.0</td>\n",
       "      <td>66.0</td>\n",
       "      <td>37.732704</td>\n",
       "      <td>...</td>\n",
       "      <td>0</td>\n",
       "      <td>21</td>\n",
       "      <td>6</td>\n",
       "      <td>21</td>\n",
       "      <td>73</td>\n",
       "      <td>0</td>\n",
       "      <td>0</td>\n",
       "      <td>0</td>\n",
       "      <td>0</td>\n",
       "      <td>90</td>\n",
       "    </tr>\n",
       "    <tr>\n",
       "      <th>61</th>\n",
       "      <td>2.0</td>\n",
       "      <td>2</td>\n",
       "      <td>4</td>\n",
       "      <td>4</td>\n",
       "      <td>1</td>\n",
       "      <td>628</td>\n",
       "      <td>0.33333</td>\n",
       "      <td>650000.0</td>\n",
       "      <td>27.0</td>\n",
       "      <td>37.800960</td>\n",
       "      <td>...</td>\n",
       "      <td>0</td>\n",
       "      <td>23</td>\n",
       "      <td>21</td>\n",
       "      <td>5</td>\n",
       "      <td>79</td>\n",
       "      <td>0</td>\n",
       "      <td>19</td>\n",
       "      <td>76</td>\n",
       "      <td>104</td>\n",
       "      <td>207</td>\n",
       "    </tr>\n",
       "    <tr>\n",
       "      <th>72</th>\n",
       "      <td>3.0</td>\n",
       "      <td>3</td>\n",
       "      <td>7</td>\n",
       "      <td>1</td>\n",
       "      <td>1</td>\n",
       "      <td>1993</td>\n",
       "      <td>1.00000</td>\n",
       "      <td>524500.0</td>\n",
       "      <td>75.0</td>\n",
       "      <td>37.734062</td>\n",
       "      <td>...</td>\n",
       "      <td>0</td>\n",
       "      <td>5</td>\n",
       "      <td>7</td>\n",
       "      <td>17</td>\n",
       "      <td>57</td>\n",
       "      <td>0</td>\n",
       "      <td>17</td>\n",
       "      <td>145</td>\n",
       "      <td>179</td>\n",
       "      <td>240</td>\n",
       "    </tr>\n",
       "    <tr>\n",
       "      <th>79</th>\n",
       "      <td>1.0</td>\n",
       "      <td>1</td>\n",
       "      <td>3</td>\n",
       "      <td>1</td>\n",
       "      <td>0</td>\n",
       "      <td>1104</td>\n",
       "      <td>1.00000</td>\n",
       "      <td>794232.0</td>\n",
       "      <td>13.0</td>\n",
       "      <td>37.777642</td>\n",
       "      <td>...</td>\n",
       "      <td>0</td>\n",
       "      <td>49</td>\n",
       "      <td>15</td>\n",
       "      <td>4</td>\n",
       "      <td>19</td>\n",
       "      <td>67</td>\n",
       "      <td>143</td>\n",
       "      <td>134</td>\n",
       "      <td>149</td>\n",
       "      <td>165</td>\n",
       "    </tr>\n",
       "    <tr>\n",
       "      <th>80</th>\n",
       "      <td>1.0</td>\n",
       "      <td>1</td>\n",
       "      <td>4</td>\n",
       "      <td>1</td>\n",
       "      <td>1</td>\n",
       "      <td>900</td>\n",
       "      <td>1.00000</td>\n",
       "      <td>530000.0</td>\n",
       "      <td>51.0</td>\n",
       "      <td>37.784821</td>\n",
       "      <td>...</td>\n",
       "      <td>61</td>\n",
       "      <td>69</td>\n",
       "      <td>15</td>\n",
       "      <td>0</td>\n",
       "      <td>77</td>\n",
       "      <td>205</td>\n",
       "      <td>163</td>\n",
       "      <td>198</td>\n",
       "      <td>160</td>\n",
       "      <td>178</td>\n",
       "    </tr>\n",
       "    <tr>\n",
       "      <th>81</th>\n",
       "      <td>2.0</td>\n",
       "      <td>2</td>\n",
       "      <td>4</td>\n",
       "      <td>1</td>\n",
       "      <td>0</td>\n",
       "      <td>936</td>\n",
       "      <td>1.00000</td>\n",
       "      <td>579141.0</td>\n",
       "      <td>117.0</td>\n",
       "      <td>37.750448</td>\n",
       "      <td>...</td>\n",
       "      <td>0</td>\n",
       "      <td>89</td>\n",
       "      <td>56</td>\n",
       "      <td>12</td>\n",
       "      <td>143</td>\n",
       "      <td>0</td>\n",
       "      <td>0</td>\n",
       "      <td>51</td>\n",
       "      <td>62</td>\n",
       "      <td>101</td>\n",
       "    </tr>\n",
       "    <tr>\n",
       "      <th>82</th>\n",
       "      <td>4.0</td>\n",
       "      <td>4</td>\n",
       "      <td>10</td>\n",
       "      <td>2</td>\n",
       "      <td>2</td>\n",
       "      <td>2350</td>\n",
       "      <td>0.50000</td>\n",
       "      <td>776236.0</td>\n",
       "      <td>70.0</td>\n",
       "      <td>37.754219</td>\n",
       "      <td>...</td>\n",
       "      <td>17</td>\n",
       "      <td>18</td>\n",
       "      <td>19</td>\n",
       "      <td>0</td>\n",
       "      <td>159</td>\n",
       "      <td>0</td>\n",
       "      <td>0</td>\n",
       "      <td>38</td>\n",
       "      <td>67</td>\n",
       "      <td>45</td>\n",
       "    </tr>\n",
       "    <tr>\n",
       "      <th>85</th>\n",
       "      <td>9.0</td>\n",
       "      <td>9</td>\n",
       "      <td>21</td>\n",
       "      <td>3</td>\n",
       "      <td>6</td>\n",
       "      <td>4848</td>\n",
       "      <td>1.00000</td>\n",
       "      <td>941363.0</td>\n",
       "      <td>103.0</td>\n",
       "      <td>37.785827</td>\n",
       "      <td>...</td>\n",
       "      <td>0</td>\n",
       "      <td>26</td>\n",
       "      <td>14</td>\n",
       "      <td>12</td>\n",
       "      <td>50</td>\n",
       "      <td>0</td>\n",
       "      <td>0</td>\n",
       "      <td>0</td>\n",
       "      <td>65</td>\n",
       "      <td>88</td>\n",
       "    </tr>\n",
       "    <tr>\n",
       "      <th>94</th>\n",
       "      <td>1.0</td>\n",
       "      <td>1</td>\n",
       "      <td>3</td>\n",
       "      <td>1</td>\n",
       "      <td>0</td>\n",
       "      <td>747</td>\n",
       "      <td>1.00000</td>\n",
       "      <td>430000.0</td>\n",
       "      <td>15.0</td>\n",
       "      <td>37.710482</td>\n",
       "      <td>...</td>\n",
       "      <td>0</td>\n",
       "      <td>11</td>\n",
       "      <td>4</td>\n",
       "      <td>2</td>\n",
       "      <td>34</td>\n",
       "      <td>102</td>\n",
       "      <td>99</td>\n",
       "      <td>105</td>\n",
       "      <td>103</td>\n",
       "      <td>106</td>\n",
       "    </tr>\n",
       "    <tr>\n",
       "      <th>97</th>\n",
       "      <td>4.0</td>\n",
       "      <td>4</td>\n",
       "      <td>8</td>\n",
       "      <td>2</td>\n",
       "      <td>2</td>\n",
       "      <td>2068</td>\n",
       "      <td>1.00000</td>\n",
       "      <td>1059915.0</td>\n",
       "      <td>85.0</td>\n",
       "      <td>37.802149</td>\n",
       "      <td>...</td>\n",
       "      <td>0</td>\n",
       "      <td>32</td>\n",
       "      <td>30</td>\n",
       "      <td>5</td>\n",
       "      <td>108</td>\n",
       "      <td>82</td>\n",
       "      <td>143</td>\n",
       "      <td>192</td>\n",
       "      <td>176</td>\n",
       "      <td>257</td>\n",
       "    </tr>\n",
       "    <tr>\n",
       "      <th>98</th>\n",
       "      <td>2.0</td>\n",
       "      <td>2</td>\n",
       "      <td>4</td>\n",
       "      <td>1</td>\n",
       "      <td>1</td>\n",
       "      <td>947</td>\n",
       "      <td>1.00000</td>\n",
       "      <td>597056.0</td>\n",
       "      <td>40.0</td>\n",
       "      <td>37.803272</td>\n",
       "      <td>...</td>\n",
       "      <td>0</td>\n",
       "      <td>34</td>\n",
       "      <td>37</td>\n",
       "      <td>12</td>\n",
       "      <td>222</td>\n",
       "      <td>0</td>\n",
       "      <td>0</td>\n",
       "      <td>0</td>\n",
       "      <td>3</td>\n",
       "      <td>58</td>\n",
       "    </tr>\n",
       "    <tr>\n",
       "      <th>...</th>\n",
       "      <td>...</td>\n",
       "      <td>...</td>\n",
       "      <td>...</td>\n",
       "      <td>...</td>\n",
       "      <td>...</td>\n",
       "      <td>...</td>\n",
       "      <td>...</td>\n",
       "      <td>...</td>\n",
       "      <td>...</td>\n",
       "      <td>...</td>\n",
       "      <td>...</td>\n",
       "      <td>...</td>\n",
       "      <td>...</td>\n",
       "      <td>...</td>\n",
       "      <td>...</td>\n",
       "      <td>...</td>\n",
       "      <td>...</td>\n",
       "      <td>...</td>\n",
       "      <td>...</td>\n",
       "      <td>...</td>\n",
       "      <td>...</td>\n",
       "    </tr>\n",
       "    <tr>\n",
       "      <th>834383</th>\n",
       "      <td>4.0</td>\n",
       "      <td>4</td>\n",
       "      <td>10</td>\n",
       "      <td>2</td>\n",
       "      <td>2</td>\n",
       "      <td>3120</td>\n",
       "      <td>0.50000</td>\n",
       "      <td>1468788.0</td>\n",
       "      <td>84.0</td>\n",
       "      <td>37.759720</td>\n",
       "      <td>...</td>\n",
       "      <td>0</td>\n",
       "      <td>21</td>\n",
       "      <td>8</td>\n",
       "      <td>1</td>\n",
       "      <td>64</td>\n",
       "      <td>0</td>\n",
       "      <td>0</td>\n",
       "      <td>18</td>\n",
       "      <td>140</td>\n",
       "      <td>173</td>\n",
       "    </tr>\n",
       "    <tr>\n",
       "      <th>834390</th>\n",
       "      <td>5.0</td>\n",
       "      <td>5</td>\n",
       "      <td>14</td>\n",
       "      <td>2</td>\n",
       "      <td>2</td>\n",
       "      <td>4129</td>\n",
       "      <td>1.00000</td>\n",
       "      <td>993185.0</td>\n",
       "      <td>36.0</td>\n",
       "      <td>37.778362</td>\n",
       "      <td>...</td>\n",
       "      <td>0</td>\n",
       "      <td>57</td>\n",
       "      <td>10</td>\n",
       "      <td>4</td>\n",
       "      <td>0</td>\n",
       "      <td>148</td>\n",
       "      <td>152</td>\n",
       "      <td>142</td>\n",
       "      <td>165</td>\n",
       "      <td>183</td>\n",
       "    </tr>\n",
       "    <tr>\n",
       "      <th>834391</th>\n",
       "      <td>9.0</td>\n",
       "      <td>9</td>\n",
       "      <td>18</td>\n",
       "      <td>3</td>\n",
       "      <td>3</td>\n",
       "      <td>3973</td>\n",
       "      <td>1.00000</td>\n",
       "      <td>748877.0</td>\n",
       "      <td>35.0</td>\n",
       "      <td>37.779919</td>\n",
       "      <td>...</td>\n",
       "      <td>0</td>\n",
       "      <td>25</td>\n",
       "      <td>25</td>\n",
       "      <td>5</td>\n",
       "      <td>73</td>\n",
       "      <td>94</td>\n",
       "      <td>86</td>\n",
       "      <td>101</td>\n",
       "      <td>86</td>\n",
       "      <td>107</td>\n",
       "    </tr>\n",
       "    <tr>\n",
       "      <th>834394</th>\n",
       "      <td>4.0</td>\n",
       "      <td>4</td>\n",
       "      <td>6</td>\n",
       "      <td>2</td>\n",
       "      <td>1</td>\n",
       "      <td>2477</td>\n",
       "      <td>1.00000</td>\n",
       "      <td>524183.0</td>\n",
       "      <td>22.0</td>\n",
       "      <td>37.761876</td>\n",
       "      <td>...</td>\n",
       "      <td>0</td>\n",
       "      <td>17</td>\n",
       "      <td>6</td>\n",
       "      <td>8</td>\n",
       "      <td>13</td>\n",
       "      <td>0</td>\n",
       "      <td>0</td>\n",
       "      <td>0</td>\n",
       "      <td>0</td>\n",
       "      <td>58</td>\n",
       "    </tr>\n",
       "    <tr>\n",
       "      <th>834398</th>\n",
       "      <td>4.0</td>\n",
       "      <td>4</td>\n",
       "      <td>9</td>\n",
       "      <td>2</td>\n",
       "      <td>2</td>\n",
       "      <td>2700</td>\n",
       "      <td>0.50000</td>\n",
       "      <td>527910.0</td>\n",
       "      <td>122.0</td>\n",
       "      <td>37.767330</td>\n",
       "      <td>...</td>\n",
       "      <td>0</td>\n",
       "      <td>42</td>\n",
       "      <td>58</td>\n",
       "      <td>29</td>\n",
       "      <td>0</td>\n",
       "      <td>107</td>\n",
       "      <td>159</td>\n",
       "      <td>141</td>\n",
       "      <td>159</td>\n",
       "      <td>169</td>\n",
       "    </tr>\n",
       "    <tr>\n",
       "      <th>834400</th>\n",
       "      <td>6.0</td>\n",
       "      <td>6</td>\n",
       "      <td>12</td>\n",
       "      <td>3</td>\n",
       "      <td>2</td>\n",
       "      <td>2820</td>\n",
       "      <td>1.00000</td>\n",
       "      <td>101125.0</td>\n",
       "      <td>96.0</td>\n",
       "      <td>37.774322</td>\n",
       "      <td>...</td>\n",
       "      <td>0</td>\n",
       "      <td>44</td>\n",
       "      <td>24</td>\n",
       "      <td>3</td>\n",
       "      <td>147</td>\n",
       "      <td>2</td>\n",
       "      <td>127</td>\n",
       "      <td>184</td>\n",
       "      <td>192</td>\n",
       "      <td>208</td>\n",
       "    </tr>\n",
       "    <tr>\n",
       "      <th>834403</th>\n",
       "      <td>6.0</td>\n",
       "      <td>6</td>\n",
       "      <td>13</td>\n",
       "      <td>2</td>\n",
       "      <td>3</td>\n",
       "      <td>2734</td>\n",
       "      <td>0.21000</td>\n",
       "      <td>1833068.0</td>\n",
       "      <td>117.0</td>\n",
       "      <td>37.762697</td>\n",
       "      <td>...</td>\n",
       "      <td>0</td>\n",
       "      <td>30</td>\n",
       "      <td>10</td>\n",
       "      <td>4</td>\n",
       "      <td>50</td>\n",
       "      <td>113</td>\n",
       "      <td>120</td>\n",
       "      <td>145</td>\n",
       "      <td>192</td>\n",
       "      <td>185</td>\n",
       "    </tr>\n",
       "    <tr>\n",
       "      <th>834409</th>\n",
       "      <td>5.0</td>\n",
       "      <td>5</td>\n",
       "      <td>12</td>\n",
       "      <td>2</td>\n",
       "      <td>2</td>\n",
       "      <td>3894</td>\n",
       "      <td>0.55833</td>\n",
       "      <td>3214189.0</td>\n",
       "      <td>69.0</td>\n",
       "      <td>37.784955</td>\n",
       "      <td>...</td>\n",
       "      <td>0</td>\n",
       "      <td>35</td>\n",
       "      <td>15</td>\n",
       "      <td>13</td>\n",
       "      <td>43</td>\n",
       "      <td>0</td>\n",
       "      <td>0</td>\n",
       "      <td>0</td>\n",
       "      <td>0</td>\n",
       "      <td>57</td>\n",
       "    </tr>\n",
       "    <tr>\n",
       "      <th>834410</th>\n",
       "      <td>7.0</td>\n",
       "      <td>7</td>\n",
       "      <td>15</td>\n",
       "      <td>2</td>\n",
       "      <td>3</td>\n",
       "      <td>2600</td>\n",
       "      <td>0.25000</td>\n",
       "      <td>1165224.0</td>\n",
       "      <td>117.0</td>\n",
       "      <td>37.739385</td>\n",
       "      <td>...</td>\n",
       "      <td>0</td>\n",
       "      <td>14</td>\n",
       "      <td>20</td>\n",
       "      <td>8</td>\n",
       "      <td>81</td>\n",
       "      <td>0</td>\n",
       "      <td>0</td>\n",
       "      <td>94</td>\n",
       "      <td>97</td>\n",
       "      <td>142</td>\n",
       "    </tr>\n",
       "    <tr>\n",
       "      <th>834411</th>\n",
       "      <td>8.0</td>\n",
       "      <td>8</td>\n",
       "      <td>16</td>\n",
       "      <td>2</td>\n",
       "      <td>5</td>\n",
       "      <td>4872</td>\n",
       "      <td>1.00000</td>\n",
       "      <td>279308.0</td>\n",
       "      <td>107.0</td>\n",
       "      <td>37.790041</td>\n",
       "      <td>...</td>\n",
       "      <td>0</td>\n",
       "      <td>24</td>\n",
       "      <td>78</td>\n",
       "      <td>16</td>\n",
       "      <td>78</td>\n",
       "      <td>0</td>\n",
       "      <td>28</td>\n",
       "      <td>74</td>\n",
       "      <td>107</td>\n",
       "      <td>114</td>\n",
       "    </tr>\n",
       "    <tr>\n",
       "      <th>834412</th>\n",
       "      <td>7.0</td>\n",
       "      <td>7</td>\n",
       "      <td>13</td>\n",
       "      <td>2</td>\n",
       "      <td>2</td>\n",
       "      <td>3675</td>\n",
       "      <td>0.50000</td>\n",
       "      <td>1568256.0</td>\n",
       "      <td>25.0</td>\n",
       "      <td>37.763015</td>\n",
       "      <td>...</td>\n",
       "      <td>0</td>\n",
       "      <td>34</td>\n",
       "      <td>65</td>\n",
       "      <td>8</td>\n",
       "      <td>8</td>\n",
       "      <td>77</td>\n",
       "      <td>79</td>\n",
       "      <td>91</td>\n",
       "      <td>140</td>\n",
       "      <td>141</td>\n",
       "    </tr>\n",
       "    <tr>\n",
       "      <th>834414</th>\n",
       "      <td>5.0</td>\n",
       "      <td>5</td>\n",
       "      <td>11</td>\n",
       "      <td>2</td>\n",
       "      <td>1</td>\n",
       "      <td>3343</td>\n",
       "      <td>0.50000</td>\n",
       "      <td>1244008.0</td>\n",
       "      <td>117.0</td>\n",
       "      <td>37.765163</td>\n",
       "      <td>...</td>\n",
       "      <td>110</td>\n",
       "      <td>53</td>\n",
       "      <td>58</td>\n",
       "      <td>11</td>\n",
       "      <td>13</td>\n",
       "      <td>0</td>\n",
       "      <td>4</td>\n",
       "      <td>84</td>\n",
       "      <td>144</td>\n",
       "      <td>128</td>\n",
       "    </tr>\n",
       "    <tr>\n",
       "      <th>834415</th>\n",
       "      <td>4.0</td>\n",
       "      <td>4</td>\n",
       "      <td>11</td>\n",
       "      <td>2</td>\n",
       "      <td>1</td>\n",
       "      <td>1975</td>\n",
       "      <td>1.00000</td>\n",
       "      <td>1219630.0</td>\n",
       "      <td>110.0</td>\n",
       "      <td>37.761275</td>\n",
       "      <td>...</td>\n",
       "      <td>0</td>\n",
       "      <td>56</td>\n",
       "      <td>45</td>\n",
       "      <td>8</td>\n",
       "      <td>60</td>\n",
       "      <td>70</td>\n",
       "      <td>79</td>\n",
       "      <td>82</td>\n",
       "      <td>196</td>\n",
       "      <td>234</td>\n",
       "    </tr>\n",
       "    <tr>\n",
       "      <th>834417</th>\n",
       "      <td>3.0</td>\n",
       "      <td>3</td>\n",
       "      <td>6</td>\n",
       "      <td>1</td>\n",
       "      <td>1</td>\n",
       "      <td>1500</td>\n",
       "      <td>1.00000</td>\n",
       "      <td>1035534.0</td>\n",
       "      <td>92.0</td>\n",
       "      <td>37.722874</td>\n",
       "      <td>...</td>\n",
       "      <td>0</td>\n",
       "      <td>25</td>\n",
       "      <td>2</td>\n",
       "      <td>2</td>\n",
       "      <td>0</td>\n",
       "      <td>0</td>\n",
       "      <td>0</td>\n",
       "      <td>0</td>\n",
       "      <td>0</td>\n",
       "      <td>160</td>\n",
       "    </tr>\n",
       "    <tr>\n",
       "      <th>834418</th>\n",
       "      <td>6.0</td>\n",
       "      <td>6</td>\n",
       "      <td>10</td>\n",
       "      <td>2</td>\n",
       "      <td>1</td>\n",
       "      <td>2596</td>\n",
       "      <td>1.00000</td>\n",
       "      <td>410800.0</td>\n",
       "      <td>24.0</td>\n",
       "      <td>37.753046</td>\n",
       "      <td>...</td>\n",
       "      <td>18</td>\n",
       "      <td>77</td>\n",
       "      <td>44</td>\n",
       "      <td>2</td>\n",
       "      <td>25</td>\n",
       "      <td>70</td>\n",
       "      <td>82</td>\n",
       "      <td>109</td>\n",
       "      <td>132</td>\n",
       "      <td>272</td>\n",
       "    </tr>\n",
       "    <tr>\n",
       "      <th>834432</th>\n",
       "      <td>3.0</td>\n",
       "      <td>3</td>\n",
       "      <td>6</td>\n",
       "      <td>1</td>\n",
       "      <td>1</td>\n",
       "      <td>1500</td>\n",
       "      <td>1.00000</td>\n",
       "      <td>847511.0</td>\n",
       "      <td>92.0</td>\n",
       "      <td>37.722874</td>\n",
       "      <td>...</td>\n",
       "      <td>0</td>\n",
       "      <td>25</td>\n",
       "      <td>2</td>\n",
       "      <td>2</td>\n",
       "      <td>0</td>\n",
       "      <td>0</td>\n",
       "      <td>0</td>\n",
       "      <td>0</td>\n",
       "      <td>0</td>\n",
       "      <td>160</td>\n",
       "    </tr>\n",
       "    <tr>\n",
       "      <th>834434</th>\n",
       "      <td>6.0</td>\n",
       "      <td>6</td>\n",
       "      <td>12</td>\n",
       "      <td>2</td>\n",
       "      <td>2</td>\n",
       "      <td>3150</td>\n",
       "      <td>0.48500</td>\n",
       "      <td>1054256.0</td>\n",
       "      <td>92.0</td>\n",
       "      <td>37.758629</td>\n",
       "      <td>...</td>\n",
       "      <td>0</td>\n",
       "      <td>28</td>\n",
       "      <td>2</td>\n",
       "      <td>6</td>\n",
       "      <td>37</td>\n",
       "      <td>0</td>\n",
       "      <td>0</td>\n",
       "      <td>10</td>\n",
       "      <td>77</td>\n",
       "      <td>252</td>\n",
       "    </tr>\n",
       "    <tr>\n",
       "      <th>834437</th>\n",
       "      <td>8.0</td>\n",
       "      <td>8</td>\n",
       "      <td>18</td>\n",
       "      <td>2</td>\n",
       "      <td>4</td>\n",
       "      <td>4050</td>\n",
       "      <td>0.50000</td>\n",
       "      <td>441906.0</td>\n",
       "      <td>46.0</td>\n",
       "      <td>37.782883</td>\n",
       "      <td>...</td>\n",
       "      <td>0</td>\n",
       "      <td>70</td>\n",
       "      <td>6</td>\n",
       "      <td>3</td>\n",
       "      <td>25</td>\n",
       "      <td>0</td>\n",
       "      <td>0</td>\n",
       "      <td>72</td>\n",
       "      <td>68</td>\n",
       "      <td>109</td>\n",
       "    </tr>\n",
       "    <tr>\n",
       "      <th>834439</th>\n",
       "      <td>9.0</td>\n",
       "      <td>9</td>\n",
       "      <td>18</td>\n",
       "      <td>3</td>\n",
       "      <td>3</td>\n",
       "      <td>4860</td>\n",
       "      <td>0.50000</td>\n",
       "      <td>831224.0</td>\n",
       "      <td>24.0</td>\n",
       "      <td>37.756415</td>\n",
       "      <td>...</td>\n",
       "      <td>0</td>\n",
       "      <td>26</td>\n",
       "      <td>73</td>\n",
       "      <td>9</td>\n",
       "      <td>87</td>\n",
       "      <td>65</td>\n",
       "      <td>84</td>\n",
       "      <td>99</td>\n",
       "      <td>137</td>\n",
       "      <td>142</td>\n",
       "    </tr>\n",
       "    <tr>\n",
       "      <th>834440</th>\n",
       "      <td>12.0</td>\n",
       "      <td>12</td>\n",
       "      <td>29</td>\n",
       "      <td>2</td>\n",
       "      <td>6</td>\n",
       "      <td>6090</td>\n",
       "      <td>0.50000</td>\n",
       "      <td>725036.0</td>\n",
       "      <td>33.0</td>\n",
       "      <td>37.773193</td>\n",
       "      <td>...</td>\n",
       "      <td>0</td>\n",
       "      <td>31</td>\n",
       "      <td>16</td>\n",
       "      <td>5</td>\n",
       "      <td>87</td>\n",
       "      <td>0</td>\n",
       "      <td>0</td>\n",
       "      <td>0</td>\n",
       "      <td>0</td>\n",
       "      <td>0</td>\n",
       "    </tr>\n",
       "    <tr>\n",
       "      <th>834442</th>\n",
       "      <td>6.0</td>\n",
       "      <td>6</td>\n",
       "      <td>11</td>\n",
       "      <td>2</td>\n",
       "      <td>1</td>\n",
       "      <td>4296</td>\n",
       "      <td>0.60000</td>\n",
       "      <td>871337.0</td>\n",
       "      <td>31.0</td>\n",
       "      <td>37.745327</td>\n",
       "      <td>...</td>\n",
       "      <td>0</td>\n",
       "      <td>27</td>\n",
       "      <td>6</td>\n",
       "      <td>9</td>\n",
       "      <td>44</td>\n",
       "      <td>35</td>\n",
       "      <td>81</td>\n",
       "      <td>81</td>\n",
       "      <td>77</td>\n",
       "      <td>131</td>\n",
       "    </tr>\n",
       "    <tr>\n",
       "      <th>834444</th>\n",
       "      <td>6.0</td>\n",
       "      <td>6</td>\n",
       "      <td>10</td>\n",
       "      <td>2</td>\n",
       "      <td>1</td>\n",
       "      <td>2005</td>\n",
       "      <td>1.00000</td>\n",
       "      <td>494421.0</td>\n",
       "      <td>117.0</td>\n",
       "      <td>37.757055</td>\n",
       "      <td>...</td>\n",
       "      <td>0</td>\n",
       "      <td>38</td>\n",
       "      <td>15</td>\n",
       "      <td>19</td>\n",
       "      <td>92</td>\n",
       "      <td>0</td>\n",
       "      <td>67</td>\n",
       "      <td>187</td>\n",
       "      <td>174</td>\n",
       "      <td>224</td>\n",
       "    </tr>\n",
       "    <tr>\n",
       "      <th>834447</th>\n",
       "      <td>5.0</td>\n",
       "      <td>5</td>\n",
       "      <td>11</td>\n",
       "      <td>2</td>\n",
       "      <td>2</td>\n",
       "      <td>2700</td>\n",
       "      <td>0.50000</td>\n",
       "      <td>1332816.0</td>\n",
       "      <td>127.0</td>\n",
       "      <td>37.773560</td>\n",
       "      <td>...</td>\n",
       "      <td>0</td>\n",
       "      <td>57</td>\n",
       "      <td>30</td>\n",
       "      <td>15</td>\n",
       "      <td>68</td>\n",
       "      <td>86</td>\n",
       "      <td>116</td>\n",
       "      <td>216</td>\n",
       "      <td>294</td>\n",
       "      <td>295</td>\n",
       "    </tr>\n",
       "    <tr>\n",
       "      <th>834452</th>\n",
       "      <td>5.0</td>\n",
       "      <td>5</td>\n",
       "      <td>9</td>\n",
       "      <td>2</td>\n",
       "      <td>2</td>\n",
       "      <td>1700</td>\n",
       "      <td>0.50000</td>\n",
       "      <td>1220012.0</td>\n",
       "      <td>105.0</td>\n",
       "      <td>37.739416</td>\n",
       "      <td>...</td>\n",
       "      <td>0</td>\n",
       "      <td>27</td>\n",
       "      <td>17</td>\n",
       "      <td>25</td>\n",
       "      <td>157</td>\n",
       "      <td>33</td>\n",
       "      <td>82</td>\n",
       "      <td>139</td>\n",
       "      <td>140</td>\n",
       "      <td>136</td>\n",
       "    </tr>\n",
       "    <tr>\n",
       "      <th>834454</th>\n",
       "      <td>9.0</td>\n",
       "      <td>9</td>\n",
       "      <td>18</td>\n",
       "      <td>3</td>\n",
       "      <td>3</td>\n",
       "      <td>4635</td>\n",
       "      <td>0.33300</td>\n",
       "      <td>2049661.0</td>\n",
       "      <td>117.0</td>\n",
       "      <td>37.770892</td>\n",
       "      <td>...</td>\n",
       "      <td>104</td>\n",
       "      <td>61</td>\n",
       "      <td>66</td>\n",
       "      <td>15</td>\n",
       "      <td>76</td>\n",
       "      <td>3</td>\n",
       "      <td>98</td>\n",
       "      <td>108</td>\n",
       "      <td>194</td>\n",
       "      <td>229</td>\n",
       "    </tr>\n",
       "    <tr>\n",
       "      <th>834458</th>\n",
       "      <td>4.0</td>\n",
       "      <td>4</td>\n",
       "      <td>10</td>\n",
       "      <td>3</td>\n",
       "      <td>1</td>\n",
       "      <td>3393</td>\n",
       "      <td>1.00000</td>\n",
       "      <td>1169834.0</td>\n",
       "      <td>104.0</td>\n",
       "      <td>37.755168</td>\n",
       "      <td>...</td>\n",
       "      <td>0</td>\n",
       "      <td>4</td>\n",
       "      <td>6</td>\n",
       "      <td>0</td>\n",
       "      <td>101</td>\n",
       "      <td>0</td>\n",
       "      <td>0</td>\n",
       "      <td>3</td>\n",
       "      <td>47</td>\n",
       "      <td>160</td>\n",
       "    </tr>\n",
       "    <tr>\n",
       "      <th>834461</th>\n",
       "      <td>5.0</td>\n",
       "      <td>5</td>\n",
       "      <td>12</td>\n",
       "      <td>2</td>\n",
       "      <td>2</td>\n",
       "      <td>3646</td>\n",
       "      <td>0.50000</td>\n",
       "      <td>1913272.0</td>\n",
       "      <td>77.0</td>\n",
       "      <td>37.763870</td>\n",
       "      <td>...</td>\n",
       "      <td>0</td>\n",
       "      <td>62</td>\n",
       "      <td>42</td>\n",
       "      <td>22</td>\n",
       "      <td>73</td>\n",
       "      <td>137</td>\n",
       "      <td>203</td>\n",
       "      <td>240</td>\n",
       "      <td>244</td>\n",
       "      <td>261</td>\n",
       "    </tr>\n",
       "    <tr>\n",
       "      <th>834462</th>\n",
       "      <td>5.0</td>\n",
       "      <td>5</td>\n",
       "      <td>12</td>\n",
       "      <td>2</td>\n",
       "      <td>2</td>\n",
       "      <td>3650</td>\n",
       "      <td>0.50000</td>\n",
       "      <td>1343142.0</td>\n",
       "      <td>100.0</td>\n",
       "      <td>37.796248</td>\n",
       "      <td>...</td>\n",
       "      <td>0</td>\n",
       "      <td>19</td>\n",
       "      <td>17</td>\n",
       "      <td>7</td>\n",
       "      <td>0</td>\n",
       "      <td>16</td>\n",
       "      <td>98</td>\n",
       "      <td>169</td>\n",
       "      <td>164</td>\n",
       "      <td>202</td>\n",
       "    </tr>\n",
       "    <tr>\n",
       "      <th>834469</th>\n",
       "      <td>6.0</td>\n",
       "      <td>6</td>\n",
       "      <td>14</td>\n",
       "      <td>3</td>\n",
       "      <td>3</td>\n",
       "      <td>4000</td>\n",
       "      <td>1.00000</td>\n",
       "      <td>985505.0</td>\n",
       "      <td>26.0</td>\n",
       "      <td>37.776481</td>\n",
       "      <td>...</td>\n",
       "      <td>299</td>\n",
       "      <td>49</td>\n",
       "      <td>45</td>\n",
       "      <td>14</td>\n",
       "      <td>48</td>\n",
       "      <td>0</td>\n",
       "      <td>80</td>\n",
       "      <td>92</td>\n",
       "      <td>162</td>\n",
       "      <td>194</td>\n",
       "    </tr>\n",
       "    <tr>\n",
       "      <th>834470</th>\n",
       "      <td>8.0</td>\n",
       "      <td>8</td>\n",
       "      <td>17</td>\n",
       "      <td>3</td>\n",
       "      <td>1</td>\n",
       "      <td>4900</td>\n",
       "      <td>0.50000</td>\n",
       "      <td>1546484.0</td>\n",
       "      <td>21.0</td>\n",
       "      <td>37.779791</td>\n",
       "      <td>...</td>\n",
       "      <td>0</td>\n",
       "      <td>28</td>\n",
       "      <td>20</td>\n",
       "      <td>15</td>\n",
       "      <td>37</td>\n",
       "      <td>14</td>\n",
       "      <td>17</td>\n",
       "      <td>20</td>\n",
       "      <td>19</td>\n",
       "      <td>163</td>\n",
       "    </tr>\n",
       "  </tbody>\n",
       "</table>\n",
       "<p>293177 rows × 36 columns</p>\n",
       "</div>"
      ],
      "text/plain": [
       "        Number of Bathrooms  Number of Bedrooms  Number of Rooms  \\\n",
       "0                       2.0                   2                5   \n",
       "1                       3.0                   3                6   \n",
       "2                       3.0                   3                5   \n",
       "4                       2.0                   2               10   \n",
       "10                      3.0                   3                6   \n",
       "11                      4.0                   4               11   \n",
       "15                      3.0                   3                5   \n",
       "16                     10.0                  10               22   \n",
       "25                      4.0                   4                8   \n",
       "30                      2.0                   2                5   \n",
       "32                      4.0                   4               12   \n",
       "34                      1.0                   1                3   \n",
       "36                      2.0                   2                4   \n",
       "39                      4.0                   4                9   \n",
       "42                      4.0                   4               13   \n",
       "44                      4.0                   4                9   \n",
       "48                      2.0                   2                5   \n",
       "51                      3.0                   3               10   \n",
       "54                      4.0                   4                8   \n",
       "57                      3.0                   3                7   \n",
       "61                      2.0                   2                4   \n",
       "72                      3.0                   3                7   \n",
       "79                      1.0                   1                3   \n",
       "80                      1.0                   1                4   \n",
       "81                      2.0                   2                4   \n",
       "82                      4.0                   4               10   \n",
       "85                      9.0                   9               21   \n",
       "94                      1.0                   1                3   \n",
       "97                      4.0                   4                8   \n",
       "98                      2.0                   2                4   \n",
       "...                     ...                 ...              ...   \n",
       "834383                  4.0                   4               10   \n",
       "834390                  5.0                   5               14   \n",
       "834391                  9.0                   9               18   \n",
       "834394                  4.0                   4                6   \n",
       "834398                  4.0                   4                9   \n",
       "834400                  6.0                   6               12   \n",
       "834403                  6.0                   6               13   \n",
       "834409                  5.0                   5               12   \n",
       "834410                  7.0                   7               15   \n",
       "834411                  8.0                   8               16   \n",
       "834412                  7.0                   7               13   \n",
       "834414                  5.0                   5               11   \n",
       "834415                  4.0                   4               11   \n",
       "834417                  3.0                   3                6   \n",
       "834418                  6.0                   6               10   \n",
       "834432                  3.0                   3                6   \n",
       "834434                  6.0                   6               12   \n",
       "834437                  8.0                   8               18   \n",
       "834439                  9.0                   9               18   \n",
       "834440                 12.0                  12               29   \n",
       "834442                  6.0                   6               11   \n",
       "834444                  6.0                   6               10   \n",
       "834447                  5.0                   5               11   \n",
       "834452                  5.0                   5                9   \n",
       "834454                  9.0                   9               18   \n",
       "834458                  4.0                   4               10   \n",
       "834461                  5.0                   5               12   \n",
       "834462                  5.0                   5               12   \n",
       "834469                  6.0                   6               14   \n",
       "834470                  8.0                   8               17   \n",
       "\n",
       "        Number of Stories  Number of Units  Property Area in Square Feet  \\\n",
       "0                       1                0                          1670   \n",
       "1                       1                1                          1450   \n",
       "2                       2                1                          1037   \n",
       "4                       3                1                          2920   \n",
       "10                      1                1                          1705   \n",
       "11                      2                3                          2771   \n",
       "15                      2                1                          1090   \n",
       "16                      2                1                          3924   \n",
       "25                      1                1                          1445   \n",
       "30                      1                1                          1043   \n",
       "32                      2                4                          4000   \n",
       "34                      1                1                           946   \n",
       "36                      1                1                          1175   \n",
       "39                      1                1                          1814   \n",
       "42                      2                2                          3340   \n",
       "44                      3                1                          3345   \n",
       "48                      1                0                          1410   \n",
       "51                      2                1                          3016   \n",
       "54                      1                1                          1893   \n",
       "57                      1                1                          1697   \n",
       "61                      4                1                           628   \n",
       "72                      1                1                          1993   \n",
       "79                      1                0                          1104   \n",
       "80                      1                1                           900   \n",
       "81                      1                0                           936   \n",
       "82                      2                2                          2350   \n",
       "85                      3                6                          4848   \n",
       "94                      1                0                           747   \n",
       "97                      2                2                          2068   \n",
       "98                      1                1                           947   \n",
       "...                   ...              ...                           ...   \n",
       "834383                  2                2                          3120   \n",
       "834390                  2                2                          4129   \n",
       "834391                  3                3                          3973   \n",
       "834394                  2                1                          2477   \n",
       "834398                  2                2                          2700   \n",
       "834400                  3                2                          2820   \n",
       "834403                  2                3                          2734   \n",
       "834409                  2                2                          3894   \n",
       "834410                  2                3                          2600   \n",
       "834411                  2                5                          4872   \n",
       "834412                  2                2                          3675   \n",
       "834414                  2                1                          3343   \n",
       "834415                  2                1                          1975   \n",
       "834417                  1                1                          1500   \n",
       "834418                  2                1                          2596   \n",
       "834432                  1                1                          1500   \n",
       "834434                  2                2                          3150   \n",
       "834437                  2                4                          4050   \n",
       "834439                  3                3                          4860   \n",
       "834440                  2                6                          6090   \n",
       "834442                  2                1                          4296   \n",
       "834444                  2                1                          2005   \n",
       "834447                  2                2                          2700   \n",
       "834452                  2                2                          1700   \n",
       "834454                  3                3                          4635   \n",
       "834458                  3                1                          3393   \n",
       "834461                  2                2                          3646   \n",
       "834462                  2                2                          3650   \n",
       "834469                  3                3                          4000   \n",
       "834470                  3                1                          4900   \n",
       "\n",
       "        Percent of Ownership  land_and_impro_val    age   latitude   ...    \\\n",
       "0                    1.00000           1901208.0   12.0  37.786291   ...     \n",
       "1                    1.00000            866405.0  110.0  37.764694   ...     \n",
       "2                    1.00000            590004.0   35.0  37.781386   ...     \n",
       "4                    1.00000            321306.0  113.0  37.770028   ...     \n",
       "10                   1.00000            717439.0   92.0  37.776400   ...     \n",
       "11                   1.00000           1120850.0  117.0  37.779537   ...     \n",
       "15                   1.00000            224754.0   33.0  37.751406   ...     \n",
       "16                   1.00000           2001739.0   44.0  37.761491   ...     \n",
       "25                   1.00000           1280000.0   66.0  37.734753   ...     \n",
       "30                   1.00000            173287.0   37.0  37.744909   ...     \n",
       "32                   0.16666            300416.0  105.0  37.778727   ...     \n",
       "34                   1.00000            531648.0   27.0  37.783185   ...     \n",
       "36                   1.00000            316756.0   37.0  37.745981   ...     \n",
       "39                   0.50000            931678.0   45.0  37.757556   ...     \n",
       "42                   1.00000           1654564.0   97.0  37.782897   ...     \n",
       "44                   1.00000           1145390.0  104.0  37.785029   ...     \n",
       "48                   0.33333            850000.0   11.0  37.777051   ...     \n",
       "51                   1.00000            982054.0  107.0  37.785271   ...     \n",
       "54                   1.00000           1030070.0   78.0  37.734221   ...     \n",
       "57                   0.50000            153576.0   66.0  37.732704   ...     \n",
       "61                   0.33333            650000.0   27.0  37.800960   ...     \n",
       "72                   1.00000            524500.0   75.0  37.734062   ...     \n",
       "79                   1.00000            794232.0   13.0  37.777642   ...     \n",
       "80                   1.00000            530000.0   51.0  37.784821   ...     \n",
       "81                   1.00000            579141.0  117.0  37.750448   ...     \n",
       "82                   0.50000            776236.0   70.0  37.754219   ...     \n",
       "85                   1.00000            941363.0  103.0  37.785827   ...     \n",
       "94                   1.00000            430000.0   15.0  37.710482   ...     \n",
       "97                   1.00000           1059915.0   85.0  37.802149   ...     \n",
       "98                   1.00000            597056.0   40.0  37.803272   ...     \n",
       "...                      ...                 ...    ...        ...   ...     \n",
       "834383               0.50000           1468788.0   84.0  37.759720   ...     \n",
       "834390               1.00000            993185.0   36.0  37.778362   ...     \n",
       "834391               1.00000            748877.0   35.0  37.779919   ...     \n",
       "834394               1.00000            524183.0   22.0  37.761876   ...     \n",
       "834398               0.50000            527910.0  122.0  37.767330   ...     \n",
       "834400               1.00000            101125.0   96.0  37.774322   ...     \n",
       "834403               0.21000           1833068.0  117.0  37.762697   ...     \n",
       "834409               0.55833           3214189.0   69.0  37.784955   ...     \n",
       "834410               0.25000           1165224.0  117.0  37.739385   ...     \n",
       "834411               1.00000            279308.0  107.0  37.790041   ...     \n",
       "834412               0.50000           1568256.0   25.0  37.763015   ...     \n",
       "834414               0.50000           1244008.0  117.0  37.765163   ...     \n",
       "834415               1.00000           1219630.0  110.0  37.761275   ...     \n",
       "834417               1.00000           1035534.0   92.0  37.722874   ...     \n",
       "834418               1.00000            410800.0   24.0  37.753046   ...     \n",
       "834432               1.00000            847511.0   92.0  37.722874   ...     \n",
       "834434               0.48500           1054256.0   92.0  37.758629   ...     \n",
       "834437               0.50000            441906.0   46.0  37.782883   ...     \n",
       "834439               0.50000            831224.0   24.0  37.756415   ...     \n",
       "834440               0.50000            725036.0   33.0  37.773193   ...     \n",
       "834442               0.60000            871337.0   31.0  37.745327   ...     \n",
       "834444               1.00000            494421.0  117.0  37.757055   ...     \n",
       "834447               0.50000           1332816.0  127.0  37.773560   ...     \n",
       "834452               0.50000           1220012.0  105.0  37.739416   ...     \n",
       "834454               0.33300           2049661.0  117.0  37.770892   ...     \n",
       "834458               1.00000           1169834.0  104.0  37.755168   ...     \n",
       "834461               0.50000           1913272.0   77.0  37.763870   ...     \n",
       "834462               0.50000           1343142.0  100.0  37.796248   ...     \n",
       "834469               1.00000            985505.0   26.0  37.776481   ...     \n",
       "834470               0.50000           1546484.0   21.0  37.779791   ...     \n",
       "\n",
       "        SFHA Requests_cnt Street Defects_cnt  Sidewalk or Curb_cnt  \\\n",
       "0                       0                112                    62   \n",
       "1                       0                 21                    24   \n",
       "2                      61                 61                    25   \n",
       "4                       0                 51                    12   \n",
       "10                      0                 53                    24   \n",
       "11                    181                 35                    38   \n",
       "15                    181                 35                     6   \n",
       "16                      0                 60                    13   \n",
       "25                      0                 48                    28   \n",
       "30                      0                 63                    42   \n",
       "32                      0                 36                    37   \n",
       "34                      0                 69                    29   \n",
       "36                      0                 20                     7   \n",
       "39                      0                 10                    14   \n",
       "42                     35                 30                    17   \n",
       "44                      0                 28                    10   \n",
       "48                      0                 56                    10   \n",
       "51                      0                 27                    11   \n",
       "54                      0                  9                    17   \n",
       "57                      0                 21                     6   \n",
       "61                      0                 23                    21   \n",
       "72                      0                  5                     7   \n",
       "79                      0                 49                    15   \n",
       "80                     61                 69                    15   \n",
       "81                      0                 89                    56   \n",
       "82                     17                 18                    19   \n",
       "85                      0                 26                    14   \n",
       "94                      0                 11                     4   \n",
       "97                      0                 32                    30   \n",
       "98                      0                 34                    37   \n",
       "...                   ...                ...                   ...   \n",
       "834383                  0                 21                     8   \n",
       "834390                  0                 57                    10   \n",
       "834391                  0                 25                    25   \n",
       "834394                  0                 17                     6   \n",
       "834398                  0                 42                    58   \n",
       "834400                  0                 44                    24   \n",
       "834403                  0                 30                    10   \n",
       "834409                  0                 35                    15   \n",
       "834410                  0                 14                    20   \n",
       "834411                  0                 24                    78   \n",
       "834412                  0                 34                    65   \n",
       "834414                110                 53                    58   \n",
       "834415                  0                 56                    45   \n",
       "834417                  0                 25                     2   \n",
       "834418                 18                 77                    44   \n",
       "834432                  0                 25                     2   \n",
       "834434                  0                 28                     2   \n",
       "834437                  0                 70                     6   \n",
       "834439                  0                 26                    73   \n",
       "834440                  0                 31                    16   \n",
       "834442                  0                 27                     6   \n",
       "834444                  0                 38                    15   \n",
       "834447                  0                 57                    30   \n",
       "834452                  0                 27                    17   \n",
       "834454                104                 61                    66   \n",
       "834458                  0                  4                     6   \n",
       "834461                  0                 62                    42   \n",
       "834462                  0                 19                    17   \n",
       "834469                299                 49                    45   \n",
       "834470                  0                 28                    20   \n",
       "\n",
       "        Color Curb_cnt  park_reg_pts  ldn_76  ldn_74  ldn_72  ldn_70  ldn_66  \n",
       "0                    6             0     158     151     141     135     156  \n",
       "1                   17            36     178     175     190     202     192  \n",
       "2                    0            88     182     159     180     164     174  \n",
       "4                   11           238      70     112     148     166     187  \n",
       "10                   1             0       0       0       0       0     113  \n",
       "11                   7            81     151     156     192     201     224  \n",
       "15                   1             0       0       0      11      19     258  \n",
       "16                   9             0       2      66      75      63     193  \n",
       "25                   4             9     115     136     137     140     246  \n",
       "30                  15            74      95     114     101     110     109  \n",
       "32                  15            37       0       0       0       0     165  \n",
       "34                   6             0     165     142     136     128     150  \n",
       "36                   2           255      97     120     165     191     172  \n",
       "39                   2           134       0       0       0       0      14  \n",
       "42                  22            28       0       0       0       7      91  \n",
       "44                   6            25       0       0       0       0      73  \n",
       "48                   1             0      85      85     111     114     133  \n",
       "51                   7           228       0       0       0      58      65  \n",
       "54                   7           133       0       0       0      73      68  \n",
       "57                  21            73       0       0       0       0      90  \n",
       "61                   5            79       0      19      76     104     207  \n",
       "72                  17            57       0      17     145     179     240  \n",
       "79                   4            19      67     143     134     149     165  \n",
       "80                   0            77     205     163     198     160     178  \n",
       "81                  12           143       0       0      51      62     101  \n",
       "82                   0           159       0       0      38      67      45  \n",
       "85                  12            50       0       0       0      65      88  \n",
       "94                   2            34     102      99     105     103     106  \n",
       "97                   5           108      82     143     192     176     257  \n",
       "98                  12           222       0       0       0       3      58  \n",
       "...                ...           ...     ...     ...     ...     ...     ...  \n",
       "834383               1            64       0       0      18     140     173  \n",
       "834390               4             0     148     152     142     165     183  \n",
       "834391               5            73      94      86     101      86     107  \n",
       "834394               8            13       0       0       0       0      58  \n",
       "834398              29             0     107     159     141     159     169  \n",
       "834400               3           147       2     127     184     192     208  \n",
       "834403               4            50     113     120     145     192     185  \n",
       "834409              13            43       0       0       0       0      57  \n",
       "834410               8            81       0       0      94      97     142  \n",
       "834411              16            78       0      28      74     107     114  \n",
       "834412               8             8      77      79      91     140     141  \n",
       "834414              11            13       0       4      84     144     128  \n",
       "834415               8            60      70      79      82     196     234  \n",
       "834417               2             0       0       0       0       0     160  \n",
       "834418               2            25      70      82     109     132     272  \n",
       "834432               2             0       0       0       0       0     160  \n",
       "834434               6            37       0       0      10      77     252  \n",
       "834437               3            25       0       0      72      68     109  \n",
       "834439               9            87      65      84      99     137     142  \n",
       "834440               5            87       0       0       0       0       0  \n",
       "834442               9            44      35      81      81      77     131  \n",
       "834444              19            92       0      67     187     174     224  \n",
       "834447              15            68      86     116     216     294     295  \n",
       "834452              25           157      33      82     139     140     136  \n",
       "834454              15            76       3      98     108     194     229  \n",
       "834458               0           101       0       0       3      47     160  \n",
       "834461              22            73     137     203     240     244     261  \n",
       "834462               7             0      16      98     169     164     202  \n",
       "834469              14            48       0      80      92     162     194  \n",
       "834470              15            37      14      17      20      19     163  \n",
       "\n",
       "[293177 rows x 36 columns]"
      ]
     },
     "execution_count": 157,
     "metadata": {},
     "output_type": "execute_result"
    }
   ],
   "source": [
    "res_rolls_test"
   ]
  },
  {
   "cell_type": "code",
   "execution_count": 13,
   "metadata": {
    "collapsed": true
   },
   "outputs": [],
   "source": [
    "# Predictors and target\n",
    "\n",
    "drop_cols = ['latitude', 'longitude', 'land_and_impro_val', 'geometry', 'census_tract']\n",
    "keep_cols = [x for x in res_rolls_test.columns.values if x not in drop_cols]\n",
    "X = res_rolls_test[keep_cols]\n",
    "\n",
    "ss = StandardScaler()\n",
    "Xs = ss.fit_transform(X)\n",
    "\n",
    "y = res_rolls_test.land_and_impro_val.values\n",
    "yl = np.log1p(y)\n",
    "\n",
    "X_train, X_test, y_train, y_test = train_test_split(X, y, test_size=0.25, random_state=100)\n",
    "Xl_train, Xl_test, yl_train, yl_test = train_test_split(X, yl, test_size=0.25, random_state=100)\n"
   ]
  },
  {
   "cell_type": "code",
   "execution_count": null,
   "metadata": {
    "collapsed": true
   },
   "outputs": [],
   "source": []
  },
  {
   "cell_type": "code",
   "execution_count": 14,
   "metadata": {
    "collapsed": false
   },
   "outputs": [
    {
     "name": "stdout",
     "output_type": "stream",
     "text": [
      "537235.035687\n",
      "340945.729066\n",
      "239160.631005\n"
     ]
    },
    {
     "data": {
      "text/plain": [
       "0.29731903309133934"
      ]
     },
     "execution_count": 14,
     "metadata": {},
     "output_type": "execute_result"
    }
   ],
   "source": [
    "linreg = LinearRegression()\n",
    "linreg.fit(X_train, y_train)\n",
    "y_pred = linreg.predict(X_test)\n",
    "print rmse(y_pred, y_test)\n",
    "print mae(y_pred, y_test)\n",
    "print median_absolute_error(y_test, y_pred)\n",
    "\n",
    "linreg.score(X_test, y_test)"
   ]
  },
  {
   "cell_type": "code",
   "execution_count": 15,
   "metadata": {
    "collapsed": false
   },
   "outputs": [
    {
     "name": "stdout",
     "output_type": "stream",
     "text": [
      "52079718250.9\n",
      "272396092.221\n",
      "218858.027578\n"
     ]
    },
    {
     "data": {
      "text/plain": [
       "0.25519217083916146"
      ]
     },
     "execution_count": 15,
     "metadata": {},
     "output_type": "execute_result"
    }
   ],
   "source": [
    "linregl = LinearRegression()\n",
    "linregl.fit(Xl_train, yl_train)\n",
    "yl_pred = linregl.predict(Xl_test)\n",
    "print rmse(np.expm1(yl_pred), np.expm1(yl_test))\n",
    "print mae(np.expm1(yl_pred), np.expm1(yl_test))\n",
    "print median_absolute_error(np.expm1(yl_pred), np.expm1(yl_test))\n",
    "\n",
    "linregl.score(Xl_test, yl_test)"
   ]
  },
  {
   "cell_type": "code",
   "execution_count": 16,
   "metadata": {
    "collapsed": false
   },
   "outputs": [
    {
     "name": "stdout",
     "output_type": "stream",
     "text": [
      "218858.027578\n",
      "Percent within 5 of price:   6.681\n",
      "Percent within 10 of price:  13.498\n",
      "Percent within 20 of price:  26.973\n",
      "\n",
      "Median error (percent):      37.964\n",
      "\n",
      "Percent within 5 of price:   5.974\n",
      "Percent within 10 of price:  12.159\n",
      "Percent within 20 of price:  24.861\n",
      "\n",
      "Median error (percent):      37.571\n"
     ]
    }
   ],
   "source": [
    "print median_absolute_error(np.expm1(yl_pred), np.expm1(yl_test))\n",
    "print_percents(y_pred, y_test)\n",
    "print_percents_log(yl_pred, yl_test)"
   ]
  },
  {
   "cell_type": "code",
   "execution_count": 17,
   "metadata": {
    "collapsed": false
   },
   "outputs": [
    {
     "data": {
      "text/plain": [
       "[<matplotlib.lines.Line2D at 0x7fac104601d0>]"
      ]
     },
     "execution_count": 17,
     "metadata": {},
     "output_type": "execute_result"
    },
    {
     "data": {
      "image/png": "[encoded data removed]",
      "text/plain": [
       "<matplotlib.figure.Figure at 0x7fac1031cc50>"
      ]
     },
     "metadata": {},
     "output_type": "display_data"
    }
   ],
   "source": [
    "sns.regplot(y_pred, y_test, marker='+', scatter_kws={'alpha':0.3})\n",
    "# sns.regplot(np.expm1(y_pred), np.expm1(y_test), marker='+', scatter_kws={'alpha':0.3})\n",
    "plt.plot(range(0,4000000), range(0,4000000))\n",
    "# plt.xlim((0,3000))\n",
    "# plt.ylim((0,3000));"
   ]
  },
  {
   "cell_type": "code",
   "execution_count": 18,
   "metadata": {
    "collapsed": false
   },
   "outputs": [
    {
     "data": {
      "image/png": "[encoded data removed]",
      "text/plain": [
       "<matplotlib.figure.Figure at 0x7fac101cab10>"
      ]
     },
     "metadata": {},
     "output_type": "display_data"
    }
   ],
   "source": [
    "plt.hist(y_pred, bins=np.linspace(0,4000000, num=80), alpha=0.5)\n",
    "plt.hist(y_test, bins=np.linspace(0,4000000, num=80), alpha=0.5, color='r');\n",
    "# plt.hist(np.expm1(y_pred), bins=np.linspace(0,3000, num=80), alpha=0.5)\n",
    "# plt.hist(np.expm1(y_test), bins=np.linspace(0,3000, num=80), alpha=0.5, color='r');"
   ]
  },
  {
   "cell_type": "code",
   "execution_count": null,
   "metadata": {
    "collapsed": true
   },
   "outputs": [],
   "source": []
  },
  {
   "cell_type": "code",
   "execution_count": null,
   "metadata": {
    "collapsed": true
   },
   "outputs": [],
   "source": []
  },
  {
   "cell_type": "code",
   "execution_count": 23,
   "metadata": {
    "collapsed": false
   },
   "outputs": [
    {
     "name": "stdout",
     "output_type": "stream",
     "text": [
      "232611.56205\n",
      "107251.340263\n",
      "41000.0474939\n"
     ]
    },
    {
     "data": {
      "text/plain": [
       "0.86826774355500791"
      ]
     },
     "execution_count": 23,
     "metadata": {},
     "output_type": "execute_result"
    }
   ],
   "source": [
    "rfr = RandomForestRegressor(n_jobs= -1, n_estimators= 600, \n",
    "                            min_samples_split= 2, min_samples_leaf= 1)\n",
    "rfr.fit(X_train, y_train)\n",
    "y_pred = rfr.predict(X_test)\n",
    "print rmse(y_pred, y_test)\n",
    "print mae(y_pred, y_test)\n",
    "print median_absolute_error(y_test, y_pred)\n",
    "\n",
    "rfr.score(X_test, y_test)"
   ]
  },
  {
   "cell_type": "code",
   "execution_count": 24,
   "metadata": {
    "collapsed": false
   },
   "outputs": [
    {
     "name": "stdout",
     "output_type": "stream",
     "text": [
      "248011.948711\n",
      "109763.065013\n",
      "37394.8638381\n"
     ]
    },
    {
     "data": {
      "text/plain": [
       "0.8567797355253568"
      ]
     },
     "execution_count": 24,
     "metadata": {},
     "output_type": "execute_result"
    }
   ],
   "source": [
    "rfrl = RandomForestRegressor(n_jobs= -1, n_estimators= 600,\n",
    "                            min_samples_split= 2, min_samples_leaf= 1)\n",
    "rfrl.fit(Xl_train, yl_train)\n",
    "yl_pred = rfrl.predict(Xl_test)\n",
    "print rmse(np.expm1(yl_pred), np.expm1(yl_test))\n",
    "print mae(np.expm1(yl_pred), np.expm1(yl_test))\n",
    "print median_absolute_error(np.expm1(yl_pred), np.expm1(yl_test))\n",
    "\n",
    "rfrl.score(Xl_test, yl_test)"
   ]
  },
  {
   "cell_type": "code",
   "execution_count": 25,
   "metadata": {
    "collapsed": false
   },
   "outputs": [
    {
     "name": "stdout",
     "output_type": "stream",
     "text": [
      "Percent within 5 of price:   40.430\n",
      "Percent within 10 of price:  60.422\n",
      "Percent within 20 of price:  77.214\n",
      "\n",
      "Median error (percent):      6.787\n",
      "\n",
      "Percent within 5 of price:   42.554\n",
      "Percent within 10 of price:  62.318\n",
      "Percent within 20 of price:  78.356\n",
      "\n",
      "Median error (percent):      6.284\n"
     ]
    }
   ],
   "source": [
    "print_percents(y_pred, y_test)\n",
    "print_percents_log(yl_pred, yl_test)"
   ]
  },
  {
   "cell_type": "code",
   "execution_count": 22,
   "metadata": {
    "collapsed": false,
    "scrolled": true
   },
   "outputs": [
    {
     "name": "stdout",
     "output_type": "stream",
     "text": [
      "Fitting 3 folds for each of 45 candidates, totalling 135 fits\n",
      "[CV] min_samples_split=2, n_estimators=500, min_samples_leaf=1 .......\n",
      "[CV]  min_samples_split=2, n_estimators=500, min_samples_leaf=1, score=0.804524, total=  53.0s\n",
      "[CV] min_samples_split=2, n_estimators=500, min_samples_leaf=1 .......\n"
     ]
    },
    {
     "name": "stderr",
     "output_type": "stream",
     "text": [
      "[Parallel(n_jobs=1)]: Done   1 out of   1 | elapsed:   55.0s remaining:    0.0s\n"
     ]
    },
    {
     "name": "stdout",
     "output_type": "stream",
     "text": [
      "[CV]  min_samples_split=2, n_estimators=500, min_samples_leaf=1, score=0.812728, total=  53.0s\n",
      "[CV] min_samples_split=2, n_estimators=500, min_samples_leaf=1 .......\n"
     ]
    },
    {
     "name": "stderr",
     "output_type": "stream",
     "text": [
      "[Parallel(n_jobs=1)]: Done   2 out of   2 | elapsed:  1.8min remaining:    0.0s\n"
     ]
    },
    {
     "name": "stdout",
     "output_type": "stream",
     "text": [
      "[CV]  min_samples_split=2, n_estimators=500, min_samples_leaf=1, score=0.805396, total=  52.6s\n",
      "[CV] min_samples_split=2, n_estimators=600, min_samples_leaf=1 .......\n"
     ]
    },
    {
     "name": "stderr",
     "output_type": "stream",
     "text": [
      "[Parallel(n_jobs=1)]: Done   3 out of   3 | elapsed:  2.7min remaining:    0.0s\n"
     ]
    },
    {
     "name": "stdout",
     "output_type": "stream",
     "text": [
      "[CV]  min_samples_split=2, n_estimators=600, min_samples_leaf=1, score=0.804747, total= 1.0min\n",
      "[CV] min_samples_split=2, n_estimators=600, min_samples_leaf=1 .......\n"
     ]
    },
    {
     "name": "stderr",
     "output_type": "stream",
     "text": [
      "[Parallel(n_jobs=1)]: Done   4 out of   4 | elapsed:  3.8min remaining:    0.0s\n"
     ]
    },
    {
     "name": "stdout",
     "output_type": "stream",
     "text": [
      "[CV]  min_samples_split=2, n_estimators=600, min_samples_leaf=1, score=0.812638, total= 1.0min\n",
      "[CV] min_samples_split=2, n_estimators=600, min_samples_leaf=1 .......\n"
     ]
    },
    {
     "name": "stderr",
     "output_type": "stream",
     "text": [
      "[Parallel(n_jobs=1)]: Done   5 out of   5 | elapsed:  4.9min remaining:    0.0s\n"
     ]
    },
    {
     "name": "stdout",
     "output_type": "stream",
     "text": [
      "[CV]  min_samples_split=2, n_estimators=600, min_samples_leaf=1, score=0.805687, total= 1.0min\n",
      "[CV] min_samples_split=2, n_estimators=700, min_samples_leaf=1 .......\n",
      "[CV]  min_samples_split=2, n_estimators=700, min_samples_leaf=1, score=0.804779, total= 1.2min\n",
      "[CV] min_samples_split=2, n_estimators=700, min_samples_leaf=1 .......\n",
      "[CV]  min_samples_split=2, n_estimators=700, min_samples_leaf=1, score=0.812707, total= 1.2min\n",
      "[CV] min_samples_split=2, n_estimators=700, min_samples_leaf=1 .......\n",
      "[CV]  min_samples_split=2, n_estimators=700, min_samples_leaf=1, score=0.805382, total= 1.2min\n",
      "[CV] min_samples_split=3, n_estimators=500, min_samples_leaf=1 .......\n",
      "[CV]  min_samples_split=3, n_estimators=500, min_samples_leaf=1, score=0.803880, total=  51.7s\n",
      "[CV] min_samples_split=3, n_estimators=500, min_samples_leaf=1 .......\n",
      "[CV]  min_samples_split=3, n_estimators=500, min_samples_leaf=1, score=0.811706, total=  51.6s\n",
      "[CV] min_samples_split=3, n_estimators=500, min_samples_leaf=1 .......\n",
      "[CV]  min_samples_split=3, n_estimators=500, min_samples_leaf=1, score=0.804538, total=  51.5s\n",
      "[CV] min_samples_split=3, n_estimators=600, min_samples_leaf=1 .......\n",
      "[CV]  min_samples_split=3, n_estimators=600, min_samples_leaf=1, score=0.803723, total= 1.0min\n",
      "[CV] min_samples_split=3, n_estimators=600, min_samples_leaf=1 .......\n",
      "[CV]  min_samples_split=3, n_estimators=600, min_samples_leaf=1, score=0.811618, total= 1.0min\n",
      "[CV] min_samples_split=3, n_estimators=600, min_samples_leaf=1 .......\n",
      "[CV]  min_samples_split=3, n_estimators=600, min_samples_leaf=1, score=0.804575, total= 1.0min\n",
      "[CV] min_samples_split=3, n_estimators=700, min_samples_leaf=1 .......\n",
      "[CV]  min_samples_split=3, n_estimators=700, min_samples_leaf=1, score=0.803771, total= 1.2min\n",
      "[CV] min_samples_split=3, n_estimators=700, min_samples_leaf=1 .......\n",
      "[CV]  min_samples_split=3, n_estimators=700, min_samples_leaf=1, score=0.811732, total= 1.2min\n",
      "[CV] min_samples_split=3, n_estimators=700, min_samples_leaf=1 .......\n",
      "[CV]  min_samples_split=3, n_estimators=700, min_samples_leaf=1, score=0.804641, total= 1.2min\n",
      "[CV] min_samples_split=4, n_estimators=500, min_samples_leaf=1 .......\n",
      "[CV]  min_samples_split=4, n_estimators=500, min_samples_leaf=1, score=0.801477, total=  50.8s\n",
      "[CV] min_samples_split=4, n_estimators=500, min_samples_leaf=1 .......\n",
      "[CV]  min_samples_split=4, n_estimators=500, min_samples_leaf=1, score=0.809288, total=  50.7s\n",
      "[CV] min_samples_split=4, n_estimators=500, min_samples_leaf=1 .......\n",
      "[CV]  min_samples_split=4, n_estimators=500, min_samples_leaf=1, score=0.802495, total=  50.7s\n",
      "[CV] min_samples_split=4, n_estimators=600, min_samples_leaf=1 .......\n",
      "[CV]  min_samples_split=4, n_estimators=600, min_samples_leaf=1, score=0.801768, total= 1.0min\n",
      "[CV] min_samples_split=4, n_estimators=600, min_samples_leaf=1 .......\n",
      "[CV]  min_samples_split=4, n_estimators=600, min_samples_leaf=1, score=0.809258, total= 1.0min\n",
      "[CV] min_samples_split=4, n_estimators=600, min_samples_leaf=1 .......\n",
      "[CV]  min_samples_split=4, n_estimators=600, min_samples_leaf=1, score=0.802413, total=  60.0s\n",
      "[CV] min_samples_split=4, n_estimators=700, min_samples_leaf=1 .......\n",
      "[CV]  min_samples_split=4, n_estimators=700, min_samples_leaf=1, score=0.801558, total= 1.2min\n",
      "[CV] min_samples_split=4, n_estimators=700, min_samples_leaf=1 .......\n",
      "[CV]  min_samples_split=4, n_estimators=700, min_samples_leaf=1, score=0.809514, total= 1.2min\n",
      "[CV] min_samples_split=4, n_estimators=700, min_samples_leaf=1 .......\n",
      "[CV]  min_samples_split=4, n_estimators=700, min_samples_leaf=1, score=0.802149, total= 1.2min\n",
      "[CV] min_samples_split=5, n_estimators=500, min_samples_leaf=1 .......\n",
      "[CV]  min_samples_split=5, n_estimators=500, min_samples_leaf=1, score=0.798795, total=  50.2s\n",
      "[CV] min_samples_split=5, n_estimators=500, min_samples_leaf=1 .......\n",
      "[CV]  min_samples_split=5, n_estimators=500, min_samples_leaf=1, score=0.806402, total=  50.1s\n",
      "[CV] min_samples_split=5, n_estimators=500, min_samples_leaf=1 .......\n",
      "[CV]  min_samples_split=5, n_estimators=500, min_samples_leaf=1, score=0.799349, total=  50.1s\n",
      "[CV] min_samples_split=5, n_estimators=600, min_samples_leaf=1 .......\n",
      "[CV]  min_samples_split=5, n_estimators=600, min_samples_leaf=1, score=0.798651, total=  59.6s\n",
      "[CV] min_samples_split=5, n_estimators=600, min_samples_leaf=1 .......\n",
      "[CV]  min_samples_split=5, n_estimators=600, min_samples_leaf=1, score=0.806502, total=  59.5s\n",
      "[CV] min_samples_split=5, n_estimators=600, min_samples_leaf=1 .......\n",
      "[CV]  min_samples_split=5, n_estimators=600, min_samples_leaf=1, score=0.799581, total=  59.5s\n",
      "[CV] min_samples_split=5, n_estimators=700, min_samples_leaf=1 .......\n",
      "[CV]  min_samples_split=5, n_estimators=700, min_samples_leaf=1, score=0.798557, total= 1.2min\n",
      "[CV] min_samples_split=5, n_estimators=700, min_samples_leaf=1 .......\n",
      "[CV]  min_samples_split=5, n_estimators=700, min_samples_leaf=1, score=0.806416, total= 1.2min\n",
      "[CV] min_samples_split=5, n_estimators=700, min_samples_leaf=1 .......\n",
      "[CV]  min_samples_split=5, n_estimators=700, min_samples_leaf=1, score=0.799686, total= 1.2min\n",
      "[CV] min_samples_split=6, n_estimators=500, min_samples_leaf=1 .......\n",
      "[CV]  min_samples_split=6, n_estimators=500, min_samples_leaf=1, score=0.795358, total=  49.2s\n",
      "[CV] min_samples_split=6, n_estimators=500, min_samples_leaf=1 .......\n",
      "[CV]  min_samples_split=6, n_estimators=500, min_samples_leaf=1, score=0.803214, total=  49.5s\n",
      "[CV] min_samples_split=6, n_estimators=500, min_samples_leaf=1 .......\n",
      "[CV]  min_samples_split=6, n_estimators=500, min_samples_leaf=1, score=0.796222, total=  49.1s\n",
      "[CV] min_samples_split=6, n_estimators=600, min_samples_leaf=1 .......\n",
      "[CV]  min_samples_split=6, n_estimators=600, min_samples_leaf=1, score=0.795496, total=  58.4s\n",
      "[CV] min_samples_split=6, n_estimators=600, min_samples_leaf=1 .......\n",
      "[CV]  min_samples_split=6, n_estimators=600, min_samples_leaf=1, score=0.803115, total=  58.5s\n",
      "[CV] min_samples_split=6, n_estimators=600, min_samples_leaf=1 .......\n",
      "[CV]  min_samples_split=6, n_estimators=600, min_samples_leaf=1, score=0.796242, total=  58.6s\n",
      "[CV] min_samples_split=6, n_estimators=700, min_samples_leaf=1 .......\n",
      "[CV]  min_samples_split=6, n_estimators=700, min_samples_leaf=1, score=0.795692, total= 1.1min\n",
      "[CV] min_samples_split=6, n_estimators=700, min_samples_leaf=1 .......\n",
      "[CV]  min_samples_split=6, n_estimators=700, min_samples_leaf=1, score=0.803295, total= 1.1min\n",
      "[CV] min_samples_split=6, n_estimators=700, min_samples_leaf=1 .......\n",
      "[CV]  min_samples_split=6, n_estimators=700, min_samples_leaf=1, score=0.796548, total= 1.1min\n",
      "[CV] min_samples_split=2, n_estimators=500, min_samples_leaf=2 .......\n",
      "[CV]  min_samples_split=2, n_estimators=500, min_samples_leaf=2, score=0.788921, total=  49.2s\n",
      "[CV] min_samples_split=2, n_estimators=500, min_samples_leaf=2 .......\n",
      "[CV]  min_samples_split=2, n_estimators=500, min_samples_leaf=2, score=0.796589, total=  49.2s\n",
      "[CV] min_samples_split=2, n_estimators=500, min_samples_leaf=2 .......\n",
      "[CV]  min_samples_split=2, n_estimators=500, min_samples_leaf=2, score=0.789977, total=  49.2s\n",
      "[CV] min_samples_split=2, n_estimators=600, min_samples_leaf=2 .......\n",
      "[CV]  min_samples_split=2, n_estimators=600, min_samples_leaf=2, score=0.789027, total=  58.4s\n",
      "[CV] min_samples_split=2, n_estimators=600, min_samples_leaf=2 .......\n",
      "[CV]  min_samples_split=2, n_estimators=600, min_samples_leaf=2, score=0.796885, total=  58.6s\n",
      "[CV] min_samples_split=2, n_estimators=600, min_samples_leaf=2 .......\n",
      "[CV]  min_samples_split=2, n_estimators=600, min_samples_leaf=2, score=0.790338, total=  58.5s\n",
      "[CV] min_samples_split=2, n_estimators=700, min_samples_leaf=2 .......\n",
      "[CV]  min_samples_split=2, n_estimators=700, min_samples_leaf=2, score=0.788971, total= 1.1min\n",
      "[CV] min_samples_split=2, n_estimators=700, min_samples_leaf=2 .......\n",
      "[CV]  min_samples_split=2, n_estimators=700, min_samples_leaf=2, score=0.796735, total= 1.1min\n",
      "[CV] min_samples_split=2, n_estimators=700, min_samples_leaf=2 .......\n",
      "[CV]  min_samples_split=2, n_estimators=700, min_samples_leaf=2, score=0.790136, total= 1.1min\n",
      "[CV] min_samples_split=3, n_estimators=500, min_samples_leaf=2 .......\n",
      "[CV]  min_samples_split=3, n_estimators=500, min_samples_leaf=2, score=0.788721, total=  49.3s\n",
      "[CV] min_samples_split=3, n_estimators=500, min_samples_leaf=2 .......\n",
      "[CV]  min_samples_split=3, n_estimators=500, min_samples_leaf=2, score=0.796610, total=  49.2s\n",
      "[CV] min_samples_split=3, n_estimators=500, min_samples_leaf=2 .......\n",
      "[CV]  min_samples_split=3, n_estimators=500, min_samples_leaf=2, score=0.789967, total=  49.2s\n",
      "[CV] min_samples_split=3, n_estimators=600, min_samples_leaf=2 .......\n",
      "[CV]  min_samples_split=3, n_estimators=600, min_samples_leaf=2, score=0.788766, total=  58.3s\n",
      "[CV] min_samples_split=3, n_estimators=600, min_samples_leaf=2 .......\n",
      "[CV]  min_samples_split=3, n_estimators=600, min_samples_leaf=2, score=0.796719, total=  58.3s\n",
      "[CV] min_samples_split=3, n_estimators=600, min_samples_leaf=2 .......\n",
      "[CV]  min_samples_split=3, n_estimators=600, min_samples_leaf=2, score=0.790098, total=  58.3s\n",
      "[CV] min_samples_split=3, n_estimators=700, min_samples_leaf=2 .......\n",
      "[CV]  min_samples_split=3, n_estimators=700, min_samples_leaf=2, score=0.789056, total= 1.1min\n",
      "[CV] min_samples_split=3, n_estimators=700, min_samples_leaf=2 .......\n",
      "[CV]  min_samples_split=3, n_estimators=700, min_samples_leaf=2, score=0.796415, total= 1.1min\n",
      "[CV] min_samples_split=3, n_estimators=700, min_samples_leaf=2 .......\n",
      "[CV]  min_samples_split=3, n_estimators=700, min_samples_leaf=2, score=0.790594, total= 1.1min\n",
      "[CV] min_samples_split=4, n_estimators=500, min_samples_leaf=2 .......\n",
      "[CV]  min_samples_split=4, n_estimators=500, min_samples_leaf=2, score=0.788870, total=  49.1s\n",
      "[CV] min_samples_split=4, n_estimators=500, min_samples_leaf=2 .......\n",
      "[CV]  min_samples_split=4, n_estimators=500, min_samples_leaf=2, score=0.796278, total=  49.3s\n",
      "[CV] min_samples_split=4, n_estimators=500, min_samples_leaf=2 .......\n",
      "[CV]  min_samples_split=4, n_estimators=500, min_samples_leaf=2, score=0.789908, total=  49.1s\n",
      "[CV] min_samples_split=4, n_estimators=600, min_samples_leaf=2 .......\n",
      "[CV]  min_samples_split=4, n_estimators=600, min_samples_leaf=2, score=0.788861, total=  58.4s\n",
      "[CV] min_samples_split=4, n_estimators=600, min_samples_leaf=2 .......\n",
      "[CV]  min_samples_split=4, n_estimators=600, min_samples_leaf=2, score=0.796658, total=  58.3s\n",
      "[CV] min_samples_split=4, n_estimators=600, min_samples_leaf=2 .......\n",
      "[CV]  min_samples_split=4, n_estimators=600, min_samples_leaf=2, score=0.790048, total=  58.0s\n",
      "[CV] min_samples_split=4, n_estimators=700, min_samples_leaf=2 .......\n",
      "[CV]  min_samples_split=4, n_estimators=700, min_samples_leaf=2, score=0.788873, total= 1.1min\n",
      "[CV] min_samples_split=4, n_estimators=700, min_samples_leaf=2 .......\n",
      "[CV]  min_samples_split=4, n_estimators=700, min_samples_leaf=2, score=0.796799, total= 1.1min\n",
      "[CV] min_samples_split=4, n_estimators=700, min_samples_leaf=2 .......\n",
      "[CV]  min_samples_split=4, n_estimators=700, min_samples_leaf=2, score=0.790047, total= 1.1min\n",
      "[CV] min_samples_split=5, n_estimators=500, min_samples_leaf=2 .......\n",
      "[CV]  min_samples_split=5, n_estimators=500, min_samples_leaf=2, score=0.786637, total=  48.7s\n",
      "[CV] min_samples_split=5, n_estimators=500, min_samples_leaf=2 .......\n",
      "[CV]  min_samples_split=5, n_estimators=500, min_samples_leaf=2, score=0.794208, total=  48.6s\n",
      "[CV] min_samples_split=5, n_estimators=500, min_samples_leaf=2 .......\n",
      "[CV]  min_samples_split=5, n_estimators=500, min_samples_leaf=2, score=0.787953, total=  48.7s\n",
      "[CV] min_samples_split=5, n_estimators=600, min_samples_leaf=2 .......\n",
      "[CV]  min_samples_split=5, n_estimators=600, min_samples_leaf=2, score=0.786854, total=  57.4s\n",
      "[CV] min_samples_split=5, n_estimators=600, min_samples_leaf=2 .......\n",
      "[CV]  min_samples_split=5, n_estimators=600, min_samples_leaf=2, score=0.794570, total=  57.7s\n",
      "[CV] min_samples_split=5, n_estimators=600, min_samples_leaf=2 .......\n",
      "[CV]  min_samples_split=5, n_estimators=600, min_samples_leaf=2, score=0.787852, total=  57.4s\n",
      "[CV] min_samples_split=5, n_estimators=700, min_samples_leaf=2 .......\n",
      "[CV]  min_samples_split=5, n_estimators=700, min_samples_leaf=2, score=0.786959, total= 1.1min\n",
      "[CV] min_samples_split=5, n_estimators=700, min_samples_leaf=2 .......\n",
      "[CV]  min_samples_split=5, n_estimators=700, min_samples_leaf=2, score=0.794589, total= 1.1min\n",
      "[CV] min_samples_split=5, n_estimators=700, min_samples_leaf=2 .......\n",
      "[CV]  min_samples_split=5, n_estimators=700, min_samples_leaf=2, score=0.788446, total= 1.1min\n",
      "[CV] min_samples_split=6, n_estimators=500, min_samples_leaf=2 .......\n",
      "[CV]  min_samples_split=6, n_estimators=500, min_samples_leaf=2, score=0.783711, total=  48.3s\n",
      "[CV] min_samples_split=6, n_estimators=500, min_samples_leaf=2 .......\n",
      "[CV]  min_samples_split=6, n_estimators=500, min_samples_leaf=2, score=0.791299, total=  48.0s\n",
      "[CV] min_samples_split=6, n_estimators=500, min_samples_leaf=2 .......\n",
      "[CV]  min_samples_split=6, n_estimators=500, min_samples_leaf=2, score=0.785160, total=  48.0s\n",
      "[CV] min_samples_split=6, n_estimators=600, min_samples_leaf=2 .......\n",
      "[CV]  min_samples_split=6, n_estimators=600, min_samples_leaf=2, score=0.783706, total=  57.0s\n",
      "[CV] min_samples_split=6, n_estimators=600, min_samples_leaf=2 .......\n",
      "[CV]  min_samples_split=6, n_estimators=600, min_samples_leaf=2, score=0.791240, total=  57.0s\n",
      "[CV] min_samples_split=6, n_estimators=600, min_samples_leaf=2 .......\n",
      "[CV]  min_samples_split=6, n_estimators=600, min_samples_leaf=2, score=0.784979, total=  57.3s\n",
      "[CV] min_samples_split=6, n_estimators=700, min_samples_leaf=2 .......\n",
      "[CV]  min_samples_split=6, n_estimators=700, min_samples_leaf=2, score=0.783822, total= 1.1min\n",
      "[CV] min_samples_split=6, n_estimators=700, min_samples_leaf=2 .......\n",
      "[CV]  min_samples_split=6, n_estimators=700, min_samples_leaf=2, score=0.791355, total= 1.1min\n",
      "[CV] min_samples_split=6, n_estimators=700, min_samples_leaf=2 .......\n",
      "[CV]  min_samples_split=6, n_estimators=700, min_samples_leaf=2, score=0.785199, total= 1.1min\n",
      "[CV] min_samples_split=2, n_estimators=500, min_samples_leaf=3 .......\n",
      "[CV]  min_samples_split=2, n_estimators=500, min_samples_leaf=3, score=0.772771, total=  47.0s\n",
      "[CV] min_samples_split=2, n_estimators=500, min_samples_leaf=3 .......\n",
      "[CV]  min_samples_split=2, n_estimators=500, min_samples_leaf=3, score=0.780456, total=  47.0s\n",
      "[CV] min_samples_split=2, n_estimators=500, min_samples_leaf=3 .......\n",
      "[CV]  min_samples_split=2, n_estimators=500, min_samples_leaf=3, score=0.774332, total=  47.0s\n",
      "[CV] min_samples_split=2, n_estimators=600, min_samples_leaf=3 .......\n",
      "[CV]  min_samples_split=2, n_estimators=600, min_samples_leaf=3, score=0.773187, total=  55.5s\n",
      "[CV] min_samples_split=2, n_estimators=600, min_samples_leaf=3 .......\n",
      "[CV]  min_samples_split=2, n_estimators=600, min_samples_leaf=3, score=0.780777, total=  55.9s\n",
      "[CV] min_samples_split=2, n_estimators=600, min_samples_leaf=3 .......\n",
      "[CV]  min_samples_split=2, n_estimators=600, min_samples_leaf=3, score=0.774286, total=  55.7s\n",
      "[CV] min_samples_split=2, n_estimators=700, min_samples_leaf=3 .......\n",
      "[CV]  min_samples_split=2, n_estimators=700, min_samples_leaf=3, score=0.773118, total= 1.1min\n",
      "[CV] min_samples_split=2, n_estimators=700, min_samples_leaf=3 .......\n",
      "[CV]  min_samples_split=2, n_estimators=700, min_samples_leaf=3, score=0.780995, total= 1.1min\n",
      "[CV] min_samples_split=2, n_estimators=700, min_samples_leaf=3 .......\n",
      "[CV]  min_samples_split=2, n_estimators=700, min_samples_leaf=3, score=0.774669, total= 1.1min\n",
      "[CV] min_samples_split=3, n_estimators=500, min_samples_leaf=3 .......\n",
      "[CV]  min_samples_split=3, n_estimators=500, min_samples_leaf=3, score=0.772700, total=  46.8s\n",
      "[CV] min_samples_split=3, n_estimators=500, min_samples_leaf=3 .......\n",
      "[CV]  min_samples_split=3, n_estimators=500, min_samples_leaf=3, score=0.780698, total=  46.9s\n",
      "[CV] min_samples_split=3, n_estimators=500, min_samples_leaf=3 .......\n",
      "[CV]  min_samples_split=3, n_estimators=500, min_samples_leaf=3, score=0.774757, total=  46.8s\n",
      "[CV] min_samples_split=3, n_estimators=600, min_samples_leaf=3 .......\n",
      "[CV]  min_samples_split=3, n_estimators=600, min_samples_leaf=3, score=0.772992, total=  55.7s\n",
      "[CV] min_samples_split=3, n_estimators=600, min_samples_leaf=3 .......\n",
      "[CV]  min_samples_split=3, n_estimators=600, min_samples_leaf=3, score=0.780876, total=  55.8s\n",
      "[CV] min_samples_split=3, n_estimators=600, min_samples_leaf=3 .......\n",
      "[CV]  min_samples_split=3, n_estimators=600, min_samples_leaf=3, score=0.774464, total=  55.7s\n",
      "[CV] min_samples_split=3, n_estimators=700, min_samples_leaf=3 .......\n",
      "[CV]  min_samples_split=3, n_estimators=700, min_samples_leaf=3, score=0.773289, total= 1.1min\n",
      "[CV] min_samples_split=3, n_estimators=700, min_samples_leaf=3 .......\n",
      "[CV]  min_samples_split=3, n_estimators=700, min_samples_leaf=3, score=0.780356, total= 1.1min\n",
      "[CV] min_samples_split=3, n_estimators=700, min_samples_leaf=3 .......\n",
      "[CV]  min_samples_split=3, n_estimators=700, min_samples_leaf=3, score=0.774640, total= 1.1min\n",
      "[CV] min_samples_split=4, n_estimators=500, min_samples_leaf=3 .......\n",
      "[CV]  min_samples_split=4, n_estimators=500, min_samples_leaf=3, score=0.772962, total=  46.9s\n",
      "[CV] min_samples_split=4, n_estimators=500, min_samples_leaf=3 .......\n",
      "[CV]  min_samples_split=4, n_estimators=500, min_samples_leaf=3, score=0.780892, total=  47.0s\n",
      "[CV] min_samples_split=4, n_estimators=500, min_samples_leaf=3 .......\n",
      "[CV]  min_samples_split=4, n_estimators=500, min_samples_leaf=3, score=0.774750, total=  46.8s\n",
      "[CV] min_samples_split=4, n_estimators=600, min_samples_leaf=3 .......\n",
      "[CV]  min_samples_split=4, n_estimators=600, min_samples_leaf=3, score=0.773011, total=  55.8s\n",
      "[CV] min_samples_split=4, n_estimators=600, min_samples_leaf=3 .......\n",
      "[CV]  min_samples_split=4, n_estimators=600, min_samples_leaf=3, score=0.780708, total=  55.6s\n",
      "[CV] min_samples_split=4, n_estimators=600, min_samples_leaf=3 .......\n",
      "[CV]  min_samples_split=4, n_estimators=600, min_samples_leaf=3, score=0.774426, total=  55.8s\n",
      "[CV] min_samples_split=4, n_estimators=700, min_samples_leaf=3 .......\n",
      "[CV]  min_samples_split=4, n_estimators=700, min_samples_leaf=3, score=0.772896, total= 1.1min\n",
      "[CV] min_samples_split=4, n_estimators=700, min_samples_leaf=3 .......\n",
      "[CV]  min_samples_split=4, n_estimators=700, min_samples_leaf=3, score=0.780648, total= 1.1min\n",
      "[CV] min_samples_split=4, n_estimators=700, min_samples_leaf=3 .......\n",
      "[CV]  min_samples_split=4, n_estimators=700, min_samples_leaf=3, score=0.774546, total= 1.1min\n",
      "[CV] min_samples_split=5, n_estimators=500, min_samples_leaf=3 .......\n",
      "[CV]  min_samples_split=5, n_estimators=500, min_samples_leaf=3, score=0.772831, total=  46.8s\n",
      "[CV] min_samples_split=5, n_estimators=500, min_samples_leaf=3 .......\n",
      "[CV]  min_samples_split=5, n_estimators=500, min_samples_leaf=3, score=0.780781, total=  47.1s\n",
      "[CV] min_samples_split=5, n_estimators=500, min_samples_leaf=3 .......\n",
      "[CV]  min_samples_split=5, n_estimators=500, min_samples_leaf=3, score=0.774560, total=  46.9s\n",
      "[CV] min_samples_split=5, n_estimators=600, min_samples_leaf=3 .......\n",
      "[CV]  min_samples_split=5, n_estimators=600, min_samples_leaf=3, score=0.772888, total=  55.7s\n",
      "[CV] min_samples_split=5, n_estimators=600, min_samples_leaf=3 .......\n",
      "[CV]  min_samples_split=5, n_estimators=600, min_samples_leaf=3, score=0.780947, total=  55.6s\n",
      "[CV] min_samples_split=5, n_estimators=600, min_samples_leaf=3 .......\n",
      "[CV]  min_samples_split=5, n_estimators=600, min_samples_leaf=3, score=0.774423, total=  55.9s\n",
      "[CV] min_samples_split=5, n_estimators=700, min_samples_leaf=3 .......\n",
      "[CV]  min_samples_split=5, n_estimators=700, min_samples_leaf=3, score=0.773206, total= 1.1min\n",
      "[CV] min_samples_split=5, n_estimators=700, min_samples_leaf=3 .......\n",
      "[CV]  min_samples_split=5, n_estimators=700, min_samples_leaf=3, score=0.780600, total= 1.1min\n",
      "[CV] min_samples_split=5, n_estimators=700, min_samples_leaf=3 .......\n",
      "[CV]  min_samples_split=5, n_estimators=700, min_samples_leaf=3, score=0.774848, total= 1.1min\n",
      "[CV] min_samples_split=6, n_estimators=500, min_samples_leaf=3 .......\n",
      "[CV]  min_samples_split=6, n_estimators=500, min_samples_leaf=3, score=0.772910, total=  47.0s\n",
      "[CV] min_samples_split=6, n_estimators=500, min_samples_leaf=3 .......\n",
      "[CV]  min_samples_split=6, n_estimators=500, min_samples_leaf=3, score=0.780932, total=  47.0s\n",
      "[CV] min_samples_split=6, n_estimators=500, min_samples_leaf=3 .......\n",
      "[CV]  min_samples_split=6, n_estimators=500, min_samples_leaf=3, score=0.774374, total=  46.9s\n",
      "[CV] min_samples_split=6, n_estimators=600, min_samples_leaf=3 .......\n",
      "[CV]  min_samples_split=6, n_estimators=600, min_samples_leaf=3, score=0.773224, total=  56.4s\n",
      "[CV] min_samples_split=6, n_estimators=600, min_samples_leaf=3 .......\n",
      "[CV]  min_samples_split=6, n_estimators=600, min_samples_leaf=3, score=0.780494, total=  55.8s\n",
      "[CV] min_samples_split=6, n_estimators=600, min_samples_leaf=3 .......\n",
      "[CV]  min_samples_split=6, n_estimators=600, min_samples_leaf=3, score=0.774601, total=  55.7s\n",
      "[CV] min_samples_split=6, n_estimators=700, min_samples_leaf=3 .......\n",
      "[CV]  min_samples_split=6, n_estimators=700, min_samples_leaf=3, score=0.772993, total= 1.1min\n",
      "[CV] min_samples_split=6, n_estimators=700, min_samples_leaf=3 .......\n",
      "[CV]  min_samples_split=6, n_estimators=700, min_samples_leaf=3, score=0.780734, total= 1.1min\n",
      "[CV] min_samples_split=6, n_estimators=700, min_samples_leaf=3 .......\n",
      "[CV]  min_samples_split=6, n_estimators=700, min_samples_leaf=3, score=0.774617, total= 1.1min\n"
     ]
    },
    {
     "name": "stderr",
     "output_type": "stream",
     "text": [
      "[Parallel(n_jobs=1)]: Done 135 out of 135 | elapsed: 135.4min finished\n"
     ]
    },
    {
     "data": {
      "text/plain": [
       "{'min_samples_leaf': 1, 'min_samples_split': 2, 'n_estimators': 600}"
      ]
     },
     "execution_count": 22,
     "metadata": {},
     "output_type": "execute_result"
    }
   ],
   "source": [
    "params = {'n_estimators': (500, 600, 700),\n",
    "          'min_samples_split': (2, 3, 4, 5, 6),\n",
    "          'min_samples_leaf': (1, 2, 3)}\n",
    "\n",
    "rfrl = RandomForestRegressor(n_jobs=-1)\n",
    "gs_rfrl = GridSearchCV(rfrl, params, verbose=6, pre_dispatch=2)\n",
    "gs_rfrl.fit(Xl_train, yl_train)\n",
    "gs_rfrl.best_params_"
   ]
  },
  {
   "cell_type": "code",
   "execution_count": null,
   "metadata": {
    "collapsed": true
   },
   "outputs": [],
   "source": []
  },
  {
   "cell_type": "code",
   "execution_count": 26,
   "metadata": {
    "collapsed": false
   },
   "outputs": [
    {
     "data": {
      "image/png": "[encoded data removed]",
      "text/plain": [
       "<matplotlib.figure.Figure at 0x7fac0d4b4a90>"
      ]
     },
     "metadata": {},
     "output_type": "display_data"
    }
   ],
   "source": [
    "# sns.regplot(y_pred, y_test, marker='+', scatter_kws={'alpha':0.3})\n",
    "sns.regplot(np.expm1(yl_pred), np.expm1(yl_test), marker='+', scatter_kws={'alpha':0.1})\n",
    "plt.plot(range(0,7000000), range(0,7000000))\n",
    "plt.xlabel('Y Predicted (dollars)')\n",
    "plt.ylabel('Y True (dollars)')\n",
    "plt.title('Predicted vs. True (RFR)')\n",
    "plt.savefig('ass_pred_true_rfr_best_.pdf', facecolor='w')\n",
    "plt.show();\n",
    "# plt.xlim((0,3000))\n",
    "# plt.ylim((0,3000));"
   ]
  },
  {
   "cell_type": "code",
   "execution_count": 28,
   "metadata": {
    "collapsed": false
   },
   "outputs": [
    {
     "data": {
      "image/png": "[encoded data removed]",
      "text/plain": [
       "<matplotlib.figure.Figure at 0x7fac10447ed0>"
      ]
     },
     "metadata": {},
     "output_type": "display_data"
    }
   ],
   "source": [
    "# plt.hist(y_pred, bins=np.linspace(0,1500, num=80), alpha=0.5)\n",
    "# plt.hist(y_test, bins=np.linspace(0,1500, num=80), alpha=0.5, color='r');\n",
    "plt.hist(np.expm1(yl_pred), bins=np.linspace(0,4000000, num=80), alpha=0.5, label='y_predicted')\n",
    "plt.hist(np.expm1(yl_test), bins=np.linspace(0,4000000, num=80), alpha=0.5, color='r', label='y_true')\n",
    "plt.title('Predicted and True Price Distributions, Assessor (RFR)')\n",
    "plt.xlabel('Price ($)')\n",
    "plt.ylabel('Counts')\n",
    "plt.legend()\n",
    "plt.savefig('ass_pred_true_dists_rfr_best_.pdf', facecolor='w')\n",
    "plt.show();"
   ]
  },
  {
   "cell_type": "code",
   "execution_count": 31,
   "metadata": {
    "collapsed": false
   },
   "outputs": [
    {
     "data": {
      "image/png": "[encoded data removed]",
      "text/plain": [
       "<matplotlib.figure.Figure at 0x7fac0d41e3d0>"
      ]
     },
     "metadata": {},
     "output_type": "display_data"
    }
   ],
   "source": [
    "def plot_learning_curve(estimator, title, X, y, ylim=None, cv=None,\n",
    "                        n_jobs=1, train_sizes=np.linspace(.1, 1.0, 6)):\n",
    "    plt.figure()\n",
    "    plt.title(title)\n",
    "#     if ylim is not None:\n",
    "#         plt.ylim(*ylim)\n",
    "    plt.xlabel(\"Training examples\")\n",
    "    plt.ylabel(\"Score\")\n",
    "    train_sizes, train_scores, test_scores = learning_curve(\n",
    "        estimator, X, y, cv=cv, n_jobs=n_jobs, train_sizes=train_sizes, \n",
    "        scoring=\"neg_median_absolute_error\")\n",
    "    train_scores_mean = np.mean(train_scores, axis=1)\n",
    "    train_scores_std = np.std(train_scores, axis=1)\n",
    "    test_scores_mean = np.mean(test_scores, axis=1)\n",
    "    test_scores_std = np.std(test_scores, axis=1)\n",
    "    plt.grid()\n",
    "\n",
    "    plt.fill_between(train_sizes, train_scores_mean - train_scores_std,\n",
    "                     train_scores_mean + train_scores_std, alpha=0.1,\n",
    "                     color=\"r\")\n",
    "    plt.fill_between(train_sizes, test_scores_mean - test_scores_std,\n",
    "                     test_scores_mean + test_scores_std, alpha=0.1, color=\"g\")\n",
    "    plt.plot(train_sizes, np.abs(train_scores_mean), 'o-', color=\"r\",\n",
    "             label=\"Training score\")\n",
    "    plt.plot(train_sizes, np.abs(test_scores_mean), 'o-', color=\"g\",\n",
    "             label=\"Cross-validation score\")\n",
    "\n",
    "    plt.legend(loc=\"best\")\n",
    "    return plt\n",
    "\n",
    "rfrl = RandomForestRegressor(n_estimators=600, n_jobs=-1, \n",
    "                             min_samples_split=2, min_samples_leaf=1)\n",
    "title = \"Learning Curves (Assessor)\"\n",
    "cv = ShuffleSplit(n_splits=3, test_size=0.2, random_state=100)\n",
    "plot_learning_curve(rfrl, title, X, yl, (0.1, 1.01), cv=cv)\n",
    "plt.ylim((0,0.4))\n",
    "plt.savefig('ass_best_rfr_median_ae_LC_v2.pdf')\n",
    "plt.show()"
   ]
  },
  {
   "cell_type": "code",
   "execution_count": null,
   "metadata": {
    "collapsed": true
   },
   "outputs": [],
   "source": []
  },
  {
   "cell_type": "code",
   "execution_count": 170,
   "metadata": {
    "collapsed": false
   },
   "outputs": [
    {
     "name": "stdout",
     "output_type": "stream",
     "text": [
      "409848.942173\n",
      "270716.716264\n",
      "187330.1875\n"
     ]
    },
    {
     "data": {
      "text/plain": [
       "0.59104344612560067"
      ]
     },
     "execution_count": 170,
     "metadata": {},
     "output_type": "execute_result"
    }
   ],
   "source": [
    "xgb = XGBRegressor(n_estimators=1000)\n",
    "xgb.fit(X_train, y_train)\n",
    "y_pred = xgb.predict(X_test)\n",
    "print rmse(y_pred, y_test)\n",
    "print mae(y_pred, y_test)\n",
    "print median_absolute_error(y_test, y_pred)\n",
    "xgb.score(X_test, y_test)"
   ]
  },
  {
   "cell_type": "code",
   "execution_count": 171,
   "metadata": {
    "collapsed": false
   },
   "outputs": [
    {
     "name": "stdout",
     "output_type": "stream",
     "text": [
      "442484.380655\n",
      "272823.188344\n",
      "178308.8125\n"
     ]
    },
    {
     "data": {
      "text/plain": [
       "0.47461893101776864"
      ]
     },
     "execution_count": 171,
     "metadata": {},
     "output_type": "execute_result"
    }
   ],
   "source": [
    "xgbl = XGBRegressor(n_estimators=1000)\n",
    "xgbl.fit(Xl_train, yl_train)\n",
    "yl_pred = xgbl.predict(Xl_test)\n",
    "print rmse(np.expm1(yl_pred), np.expm1(yl_test))\n",
    "print mae(np.expm1(yl_pred), np.expm1(yl_test))\n",
    "print median_absolute_error(np.expm1(yl_pred), np.expm1(yl_test))\n",
    "\n",
    "xgbl.score(Xl_test, yl_test)"
   ]
  },
  {
   "cell_type": "code",
   "execution_count": 172,
   "metadata": {
    "collapsed": false
   },
   "outputs": [
    {
     "name": "stdout",
     "output_type": "stream",
     "text": [
      "Percent within 5 of price:   8.836\n",
      "Percent within 10 of price:  17.595\n",
      "Percent within 20 of price:  35.264\n",
      "\n",
      "Median error (percent):      29.291\n",
      "\n",
      "Percent within 5 of price:   8.318\n",
      "Percent within 10 of price:  16.616\n",
      "Percent within 20 of price:  33.088\n",
      "\n",
      "Median error (percent):      30.429\n"
     ]
    }
   ],
   "source": [
    "print_percents(y_pred, y_test)\n",
    "print_percents_log(yl_pred, yl_test)"
   ]
  },
  {
   "cell_type": "code",
   "execution_count": null,
   "metadata": {
    "collapsed": true
   },
   "outputs": [],
   "source": []
  },
  {
   "cell_type": "code",
   "execution_count": 173,
   "metadata": {
    "collapsed": false
   },
   "outputs": [
    {
     "name": "stdout",
     "output_type": "stream",
     "text": [
      "224064.886131\n",
      "105480.11678\n",
      "41153.9963373\n"
     ]
    },
    {
     "data": {
      "text/plain": [
       "0.87777018903305781"
      ]
     },
     "execution_count": 173,
     "metadata": {},
     "output_type": "execute_result"
    }
   ],
   "source": [
    "etr = ExtraTreesRegressor(n_jobs=-1, n_estimators=400, bootstrap=True)\n",
    "etr.fit(X_train, y_train)\n",
    "y_pred = etr.predict(X_test)\n",
    "print rmse(y_pred, y_test)\n",
    "print mae(y_pred, y_test)\n",
    "print median_absolute_error(y_test, y_pred)\n",
    "\n",
    "etr.score(X_test, y_test)"
   ]
  },
  {
   "cell_type": "code",
   "execution_count": 174,
   "metadata": {
    "collapsed": false
   },
   "outputs": [
    {
     "name": "stdout",
     "output_type": "stream",
     "text": [
      "242344.518852\n",
      "108567.84\n",
      "37731.8201929\n"
     ]
    },
    {
     "data": {
      "text/plain": [
       "0.86316643998114384"
      ]
     },
     "execution_count": 174,
     "metadata": {},
     "output_type": "execute_result"
    }
   ],
   "source": [
    "etrl = ExtraTreesRegressor(n_jobs=-1, n_estimators=400, bootstrap=True)\n",
    "etrl.fit(Xl_train, yl_train)\n",
    "yl_pred = etrl.predict(Xl_test)\n",
    "print rmse(np.expm1(yl_pred), np.expm1(yl_test))\n",
    "print mae(np.expm1(yl_pred), np.expm1(yl_test))\n",
    "print median_absolute_error(np.expm1(yl_pred), np.expm1(yl_test))\n",
    "\n",
    "etrl.score(Xl_test, yl_test)"
   ]
  },
  {
   "cell_type": "code",
   "execution_count": 175,
   "metadata": {
    "collapsed": false
   },
   "outputs": [
    {
     "name": "stdout",
     "output_type": "stream",
     "text": [
      "Percent within 5 of price:   40.396\n",
      "Percent within 10 of price:  60.258\n",
      "Percent within 20 of price:  77.108\n",
      "\n",
      "Median error (percent):      6.826\n",
      "\n",
      "Percent within 5 of price:   42.378\n",
      "Percent within 10 of price:  61.883\n",
      "Percent within 20 of price:  78.349\n",
      "\n",
      "Median error (percent):      6.350\n"
     ]
    }
   ],
   "source": [
    "print_percents(y_pred, y_test)\n",
    "print_percents_log(yl_pred, yl_test)"
   ]
  },
  {
   "cell_type": "code",
   "execution_count": 176,
   "metadata": {
    "collapsed": false
   },
   "outputs": [
    {
     "data": {
      "text/plain": [
       "[<matplotlib.lines.Line2D at 0x7fe7bc9f7b90>]"
      ]
     },
     "execution_count": 176,
     "metadata": {},
     "output_type": "execute_result"
    },
    {
     "data": {
      "image/png": "[encoded data removed]",
      "text/plain": [
       "<matplotlib.figure.Figure at 0x7fe7bdce5910>"
      ]
     },
     "metadata": {},
     "output_type": "display_data"
    }
   ],
   "source": [
    "# sns.regplot(y_pred, y_test, marker='+', scatter_kws={'alpha':0.3})\n",
    "sns.regplot(np.expm1(yl_pred), np.expm1(yl_test), marker='+', scatter_kws={'alpha':0.3})\n",
    "plt.plot(range(0,4000000), range(0,4000000))\n",
    "# plt.xlim((0,3000))\n",
    "# plt.ylim((0,3000));"
   ]
  },
  {
   "cell_type": "code",
   "execution_count": 177,
   "metadata": {
    "collapsed": false
   },
   "outputs": [
    {
     "data": {
      "image/png": "[encoded data removed]",
      "text/plain": [
       "<matplotlib.figure.Figure at 0x7fe7bc3bfa90>"
      ]
     },
     "metadata": {},
     "output_type": "display_data"
    }
   ],
   "source": [
    "# plt.hist(y_pred, bins=np.linspace(0,1500, num=80), alpha=0.5)\n",
    "# plt.hist(y_test, bins=np.linspace(0,1500, num=80), alpha=0.5, color='r');\n",
    "plt.hist(np.expm1(yl_pred), bins=np.linspace(0,4000000, num=80), alpha=0.5)\n",
    "plt.hist(np.expm1(yl_test), bins=np.linspace(0,4000000, num=80), alpha=0.5, color='r');"
   ]
  },
  {
   "cell_type": "code",
   "execution_count": null,
   "metadata": {
    "collapsed": true
   },
   "outputs": [],
   "source": []
  },
  {
   "cell_type": "code",
   "execution_count": 149,
   "metadata": {
    "collapsed": false
   },
   "outputs": [
    {
     "name": "stdout",
     "output_type": "stream",
     "text": [
      "434303.988967\n",
      "284374.652016\n",
      "195601.07977\n"
     ]
    },
    {
     "data": {
      "text/plain": [
       "0.54078383008392328"
      ]
     },
     "execution_count": 149,
     "metadata": {},
     "output_type": "execute_result"
    }
   ],
   "source": [
    "gbr = GradientBoostingRegressor(n_estimators=300)\n",
    "gbr.fit(X_train, y_train)\n",
    "y_pred = gbr.predict(X_test)\n",
    "print rmse(y_pred, y_test)\n",
    "print mae(y_pred, y_test)\n",
    "print median_absolute_error(y_test, y_pred)\n",
    "gbr.score(X_test, y_test)"
   ]
  },
  {
   "cell_type": "code",
   "execution_count": 150,
   "metadata": {
    "collapsed": false
   },
   "outputs": [
    {
     "name": "stdout",
     "output_type": "stream",
     "text": [
      "463951.882699\n",
      "285758.371865\n",
      "186004.036806\n"
     ]
    },
    {
     "data": {
      "text/plain": [
       "0.43540424931856914"
      ]
     },
     "execution_count": 150,
     "metadata": {},
     "output_type": "execute_result"
    }
   ],
   "source": [
    "gbrl = GradientBoostingRegressor(n_estimators=300)\n",
    "gbrl.fit(Xl_train, yl_train)\n",
    "yl_pred = gbrl.predict(Xl_test)\n",
    "print rmse(np.expm1(yl_pred), np.expm1(yl_test))\n",
    "print mae(np.expm1(yl_pred), np.expm1(yl_test))\n",
    "print median_absolute_error(np.expm1(yl_pred), np.expm1(yl_test))\n",
    "gbrl.score(Xl_test, yl_test)"
   ]
  },
  {
   "cell_type": "code",
   "execution_count": 151,
   "metadata": {
    "collapsed": false
   },
   "outputs": [
    {
     "name": "stdout",
     "output_type": "stream",
     "text": [
      "Percent within 5 of price:   8.518\n",
      "Percent within 10 of price:  16.843\n",
      "Percent within 20 of price:  33.731\n",
      "\n",
      "Median error (percent):      30.610\n",
      "\n",
      "Percent within 5 of price:   7.625\n",
      "Percent within 10 of price:  15.219\n",
      "Percent within 20 of price:  30.950\n",
      "\n",
      "Median error (percent):      32.018\n"
     ]
    }
   ],
   "source": [
    "print_percents(y_pred, y_test)\n",
    "print_percents_log(yl_pred, yl_test)"
   ]
  },
  {
   "cell_type": "code",
   "execution_count": null,
   "metadata": {
    "collapsed": true
   },
   "outputs": [],
   "source": []
  },
  {
   "cell_type": "code",
   "execution_count": null,
   "metadata": {
    "collapsed": true
   },
   "outputs": [],
   "source": []
  },
  {
   "cell_type": "code",
   "execution_count": null,
   "metadata": {
    "collapsed": true
   },
   "outputs": [],
   "source": []
  }
 ],
 "metadata": {
  "kernelspec": {
   "display_name": "Python [default]",
   "language": "python",
   "name": "python2"
  },
  "language_info": {
   "codemirror_mode": {
    "name": "ipython",
    "version": 2
   },
   "file_extension": ".py",
   "mimetype": "text/x-python",
   "name": "python",
   "nbconvert_exporter": "python",
   "pygments_lexer": "ipython2",
   "version": "2.7.13"
  }
 },
 "nbformat": 4,
 "nbformat_minor": 2
}
